{
 "cells": [
  {
   "cell_type": "markdown",
   "metadata": {},
   "source": [
    "# 1. Introduction\n",
    "\n",
    "Programming is the process of giving instructions to a computer so it can perform tasks for you.  \n",
    "Think of a program like a recipe:  \n",
    "- The computer is the cook.  \n",
    "- You (the programmer) are writing down step-by-step instructions.  \n",
    "- The computer follows your instructions exactly, no matter what.  \n",
    " \n",
    "These instructions are written in a programming language like:  \n",
    "- Python  \n",
    "- C++  \n",
    "- JavaScript  \n",
    "- Bash  \n",
    "- And many more...\n",
    "    "
   ]
  },
  {
   "cell_type": "code",
   "execution_count": null,
   "metadata": {},
   "outputs": [],
   "source": [
    "def myfunc(x):\n",
    "    return x**2"
   ]
  },
  {
   "cell_type": "markdown",
   "metadata": {},
   "source": [
    "## 1.1 Writing to your Computer\n",
    "\n",
    "When people say “write to your computer”, especially in a programming context, they often mean:  \n",
    "\"Sending instructions directly to the computer’s operating system through a command-line interface (CLI), also known as the terminal.\"\n",
    "\n",
    "**What is the Terminal?**  \n",
    "The terminal (or command line, or shell) is a text-based interface where you type commands directly to your computer.  It allows you to interact directly with your computer i.e. browse the content of your computer, launch software and execute commands just as you would do by clicking menus.  \n",
    " Note: The name 'terminal' differs between Windows, macOS or Linux.  \n",
    "\n",
    "\n",
    "You type instructions like:\n",
    "\n",
    "cd Documents          # Change directory  \n",
    "ls                   # List files"
   ]
  },
  {
   "cell_type": "markdown",
   "metadata": {},
   "source": [
    "A list of examples of commands: "
   ]
  },
  {
   "cell_type": "markdown",
   "metadata": {},
   "source": [
    "| Unix/Linux (Bash)    | Windows CMD | Description     |\n",
    "|----------|-----|----------------|\n",
    "| ls    | dir  | List files and directories       |\n",
    "| cd     | cd or chdir  | Change the current directory      |\n",
    "| pwd  | cd  | Print current working directory|  \n",
    "| mkdir  | mkdir or md  | Create a new directory |\n",
    "| rm  | del or erase  | Delete files|\n",
    "| rm -r  | rmdir /s  | Delete directory and its contents|\n",
    "| cp  | copy  | Copy files|\n",
    "| mv  | move  | Move or rename files|\n",
    "| echo \"text\" | echo text  | Print text to the terminal|\n",
    "| cat file.txt  | type file.txt  | Display contents of a file|\n",
    "| man  | help or command /?  | Display manual/help for commands|\n",
    "| clear  | cls  | Clear the terminal screen|"
   ]
  },
  {
   "cell_type": "markdown",
   "metadata": {},
   "source": [
    "When you open a terminal, you’re placed in a current working directory — a folder on your computer.   \n",
    "Imagine your computer’s file system as a big tree or hierarchy:\n",
    "- Folders are branches.\n",
    "- Files are leaves.  \n",
    "At the top of the hierarchy is a folder called root written as a forward slash ( \\ ) in Unix. All other folders(also known as directories) are contained within the root folder, and those folders in turn can contain files and other folders. In Windows the directory structure is a bit different. There is no unified root, but a root for each drive (C:,D:,..) and the seperator between folders is a backslash ( / ).\n"
   ]
  },
  {
   "cell_type": "markdown",
   "metadata": {},
   "source": [
    "To find your current location on Linux/macOS (Bash Terminal): "
   ]
  },
  {
   "cell_type": "code",
   "execution_count": null,
   "metadata": {},
   "outputs": [],
   "source": [
    "pwd"
   ]
  },
  {
   "cell_type": "markdown",
   "metadata": {},
   "source": [
    "Output:  \n",
    "/home/yourname/Documents"
   ]
  },
  {
   "cell_type": "markdown",
   "metadata": {},
   "source": [
    "On Windows CMD:"
   ]
  },
  {
   "cell_type": "code",
   "execution_count": null,
   "metadata": {},
   "outputs": [],
   "source": [
    "cd"
   ]
  },
  {
   "cell_type": "markdown",
   "metadata": {},
   "source": [
    "Output:  \n",
    "C:\\Users\\yourname\\Documents"
   ]
  },
  {
   "cell_type": "markdown",
   "metadata": {},
   "source": [
    "**How to Change Your Location:**  \n",
    "You use the cd command, which stands for \"change directory\".  \n",
    "On Linux/macOS:  \n",
    "cd /home/yourname/Documents/Images  \n",
    "On Windows :     \n",
    "cd C:\\Users\\yourname\\Documents\\Images\n"
   ]
  },
  {
   "cell_type": "markdown",
   "metadata": {},
   "source": [
    "Summary table  :\n",
    "| Unix/Linux (Bash)    | Windows CMD | Task     |\n",
    "|----------|-----|----------------|\n",
    "| pwd    | cd  | See current path       |\n",
    "| cd/path/to/folder     | cd C:\\path\\to\\folder  | Change to another folder      |\n",
    "| cd ..  | cd..  | Go up one level|  \n",
    "| cd ~  | cd  | Go to home directory |\n",
    "| cd /  | cd \\  | root of the drive|\n"
   ]
  },
  {
   "cell_type": "markdown",
   "metadata": {},
   "source": [
    "<div class=\"alert alert-block alert-info\">\n",
    "<b>Exercise.</b>\n",
    "Use the terminal to:\n",
    "    \n",
    "- Create a directory called terminal_practice\n",
    "- Create a text file inside it called note.txt\n",
    "- Write some text into the file \n",
    "- View the contents of the file\n",
    "</div>"
   ]
  },
  {
   "cell_type": "markdown",
   "metadata": {},
   "source": [
    "On your terminal :   \n",
    "\n",
    "cd ~ #Navigate to your home or desktop directory   \n",
    "mkdir terminal_practice #Create a folder named terminal_practice  \n",
    "cd terminal_practice  # Enter that folder  \n",
    "touch note.txt #Create a file named note.txt  \n",
    "echo \"Hello, world!\" > note.txt #Write the text \"Hello, world!\" into the file  (> for overwrite)  \n",
    "echo \"This is written from the terminal.\" >> note.txt #Add a second line: \"This is written from the terminal.\" ( >> for append)    \n",
    "cat note.txt  #View the contents of the file  "
   ]
  },
  {
   "cell_type": "markdown",
   "metadata": {},
   "source": [
    "## 1.2 Installing Python"
   ]
  },
  {
   "cell_type": "markdown",
   "metadata": {},
   "source": [
    "You can install for free python on: \n",
    " http://www.python.org  \n",
    " Make sure to install the latest version.  \n",
    " To verify that Python is installed, open your terminal and type :\n",
    "  \"python --version\"\" or \"python3 --version\"  \n",
    "  You should see something like:  \n",
    "  Python 3.12.1\n",
    "\n"
   ]
  },
  {
   "cell_type": "markdown",
   "metadata": {},
   "source": [
    "After installation, you need to start your Python interpreter.  The quickest way is to open your terminal and type \"python\" or \"python3\".  \n",
    "You will then observe something like this:  \n",
    "Python 3.12.1 (default, ...)\n",
    ">>>\n",
    "Now you are in the Python shell, you can type Python code directly. "
   ]
  },
  {
   "cell_type": "markdown",
   "metadata": {},
   "source": [
    "` >>> print(\"Hello, world!\")`     \n",
    "Hello, world!  \n",
    "` >>> 2 + 2 `  \n",
    "4  \n",
    "` >>> 10/3`  \n",
    "3.3333333333333335\n",
    "` >>> 3**2`  \n",
    "9    \n",
    "` >>> 2**3`  \n",
    "8 "
   ]
  },
  {
   "cell_type": "markdown",
   "metadata": {},
   "source": [
    "# 2.  Variables, types and structures"
   ]
  },
  {
   "cell_type": "markdown",
   "metadata": {},
   "source": [
    "## 2.1 Variables"
   ]
  },
  {
   "cell_type": "markdown",
   "metadata": {},
   "source": [
    "<div class=\"alert alert-block alert-warning\">\n",
    "One of the first things we will do to get familiar with the software is to <b>assign variables</b>.\n",
    "A variable can be assigned simply by writing <b>x = ...</b>, \n",
    "or multiple variables can be assigned at once by writing <b>x, y = ..., ...</b>.\n",
    "<br> \n",
    "\n",
    "We will then need to <b>visualize these variables</b>.\n",
    "To display the value of the variables, we can use the <b>print</b> command:\n",
    "\n",
    "    print('x=', x) or print(f'x={x}') or print(f'{x=}')\n",
    "    \n",
    "Note that we can also list the variables on the last line of the cell, and they will be displayed automatically.\n",
    "<br> \n",
    "\n",
    "We can also <b>add comments</b> in the code.\n",
    "To do this, we use <b>#</b>, which affects only the text following it on the same line. To comment on paragraphs, we enclose the paragraph with triple quotes <b>\"\"\" ... \"\"\"</b>.\n",
    "<br> \n",
    "\n",
    "Finally, we may need to <b>search for help</b>. \n",
    "For this, we can use the <b>help</b> command or look it up on the internet.\n",
    "</div>\n",
    "\n"
   ]
  },
  {
   "cell_type": "code",
   "execution_count": null,
   "metadata": {},
   "outputs": [],
   "source": [
    "x = 1\n",
    "y, z = 1e-2,'Wednesday'# y=1e-2 corresponds to y=0.01\n",
    "x,y,z"
   ]
  },
  {
   "cell_type": "code",
   "execution_count": null,
   "metadata": {},
   "outputs": [],
   "source": [
    "help(print)"
   ]
  },
  {
   "cell_type": "code",
   "execution_count": null,
   "metadata": {},
   "outputs": [],
   "source": [
    "result = 3**2\n",
    "result"
   ]
  },
  {
   "cell_type": "markdown",
   "metadata": {},
   "source": [
    "If a variable is called before it is created, python will raise an error:"
   ]
  },
  {
   "cell_type": "code",
   "execution_count": null,
   "metadata": {},
   "outputs": [],
   "source": [
    "number"
   ]
  },
  {
   "cell_type": "markdown",
   "metadata": {},
   "source": [
    "After a variable is created, you can directly use it anywhere in the program"
   ]
  },
  {
   "cell_type": "code",
   "execution_count": null,
   "metadata": {},
   "outputs": [],
   "source": [
    "result = 3**2\n",
    "number = 5\n",
    "new_result = result + number\n",
    "new_result"
   ]
  },
  {
   "cell_type": "markdown",
   "metadata": {},
   "source": [
    "You can change the value for a previously assigned variable"
   ]
  },
  {
   "cell_type": "code",
   "execution_count": null,
   "metadata": {},
   "outputs": [],
   "source": [
    "result = 3**2\n",
    "result = 1\n",
    "result"
   ]
  },
  {
   "cell_type": "markdown",
   "metadata": {},
   "source": [
    "<div class=\"alert alert-block alert-warning\">\n",
    "    \n",
    "\n",
    "Python has a number of predefined keywords that cannot be used as variable names. These are the words:\n",
    "\n",
    "         'False', 'None', 'True', 'and', 'as', 'assert', 'break', 'class', 'continue', 'def', 'del', 'elif', 'else', 'except', 'finally', 'for', 'from', 'global', 'if', 'import', 'in', 'is', 'lambda', 'nonlocal', 'not', 'or', 'pass', 'raise', 'return', 'try', 'while', 'with', 'yield'\n",
    "</div>"
   ]
  },
  {
   "cell_type": "markdown",
   "metadata": {},
   "source": [
    "## 2.2 Python Libraries"
   ]
  },
  {
   "cell_type": "markdown",
   "metadata": {},
   "source": [
    "<div class=\"alert alert-block alert-warning\">\n",
    "To create a program, we use libraries that define all the tools we need for numerical computation and result visualization.\n",
    "We will focus particularly on the following libraries:\n",
    "\n",
    "* The <b>math</b> library, which contains common mathematical functions.\n",
    "* The <b>matplotlib.pyplot</b> library, which provides tools for graphical representations.\n",
    "* The <b>numpy</b> library, which includes tools for linear algebra.\n",
    "* The <b>scipy</b> library, which contains tools for differential equation approximation, among others.\n",
    "* The <b>stat</b> library, which provides useful functions for statistics.\n",
    "\n",
    "</div>"
   ]
  },
  {
   "cell_type": "markdown",
   "metadata": {},
   "source": [
    "## 2.3 Types of Variables"
   ]
  },
  {
   "cell_type": "markdown",
   "metadata": {},
   "source": [
    "### 2.3.1 Numerical Values"
   ]
  },
  {
   "cell_type": "markdown",
   "metadata": {},
   "source": [
    "#### Integers"
   ]
  },
  {
   "cell_type": "code",
   "execution_count": null,
   "metadata": {},
   "outputs": [],
   "source": [
    "i1 = 12\n",
    "i2 = -100\n",
    "print(\"i1=\",i1,\", i2=\",i2)\n",
    "print(type(i1),type(i2))"
   ]
  },
  {
   "cell_type": "markdown",
   "metadata": {},
   "source": [
    "#### Floats"
   ]
  },
  {
   "cell_type": "code",
   "execution_count": null,
   "metadata": {},
   "outputs": [],
   "source": [
    "x1 = 1.92\n",
    "x2 = 1.2e-3\n",
    "print(\"x1=\",x1,\", x2=\",x2)\n",
    "print(type(x1),type(x2))"
   ]
  },
  {
   "cell_type": "markdown",
   "metadata": {},
   "source": [
    "#### Complex Numbers"
   ]
  },
  {
   "cell_type": "code",
   "execution_count": null,
   "metadata": {},
   "outputs": [],
   "source": [
    "z1 = 1+2j\n",
    "z2 = 1j\n",
    "z3 = complex(2,3)\n",
    "print(\"z1=\",z1,\", z2=\",z2, \", z3=\",z3)\n",
    "print(type(z1))"
   ]
  },
  {
   "cell_type": "markdown",
   "metadata": {},
   "source": [
    "#### Strings of Variables"
   ]
  },
  {
   "cell_type": "markdown",
   "metadata": {},
   "source": [
    "In Python strings are sequences of characters, a piece of text, and are delimited by ’ ’ or \" \" ."
   ]
  },
  {
   "cell_type": "code",
   "execution_count": null,
   "metadata": {},
   "outputs": [],
   "source": [
    "t1 = \"Hello students\"\n",
    "t2 = \"One\"\n",
    "\n",
    "print(t1)\n",
    "print(t2)\n",
    "type(t2)"
   ]
  },
  {
   "cell_type": "markdown",
   "metadata": {},
   "source": [
    "<div class=\"alert alert-block alert-warning\">\n",
    "<b> Note.</b>\n",
    "\n",
    "You can use either <b>\".\"</b> or <b>'.'</b> interchangeably.  Differentiating between the two notations becomes interesting when you want to have the character ’ and ” in the string itself. For example you will write \"I’m fine\" and ’He said \"fine\"’.\n",
    "\n",
    "The command <b>\\n</b> allows you to move to the next line.\n",
    "\n",
    "If you don’t want characters prefaced by \\to be interpreted as special characters, you\n",
    "can use raw strings by adding an r before the first quote:\n",
    "\n",
    "</div>"
   ]
  },
  {
   "cell_type": "code",
   "execution_count": null,
   "metadata": {},
   "outputs": [],
   "source": [
    "t2 = \"I'm fine\"\n",
    "print(t2)"
   ]
  },
  {
   "cell_type": "code",
   "execution_count": null,
   "metadata": {},
   "outputs": [],
   "source": [
    "t2 = \"One \\n Two\"\n",
    "print(t2)"
   ]
  },
  {
   "cell_type": "code",
   "execution_count": null,
   "metadata": {},
   "outputs": [],
   "source": [
    "print('path is C:\\name')"
   ]
  },
  {
   "cell_type": "code",
   "execution_count": null,
   "metadata": {},
   "outputs": [],
   "source": [
    "print(r'path is C:\\name')"
   ]
  },
  {
   "cell_type": "markdown",
   "metadata": {},
   "source": [
    "<div class=\"alert alert-block alert-warning\">\n",
    "You can convert a variable to another type of variable</br>\n",
    "The division operator produces float numbers that can be round up.\n",
    "</div>"
   ]
  },
  {
   "cell_type": "code",
   "execution_count": null,
   "metadata": {},
   "outputs": [],
   "source": [
    "result = 10/3\n",
    "result "
   ]
  },
  {
   "cell_type": "code",
   "execution_count": null,
   "metadata": {},
   "outputs": [],
   "source": [
    "int(result)"
   ]
  },
  {
   "cell_type": "code",
   "execution_count": null,
   "metadata": {},
   "outputs": [],
   "source": [
    "float(5)"
   ]
  },
  {
   "cell_type": "code",
   "execution_count": null,
   "metadata": {},
   "outputs": [],
   "source": [
    "m = int(\"3\")\n",
    "print(type(m))"
   ]
  },
  {
   "cell_type": "code",
   "execution_count": null,
   "metadata": {},
   "outputs": [],
   "source": [
    "i = int(2.8)\n",
    "x = float(i)\n",
    "y = float(\"1.2\")\n",
    "x,y"
   ]
  },
  {
   "cell_type": "code",
   "execution_count": null,
   "metadata": {},
   "outputs": [],
   "source": [
    "i1 =12\n",
    "str(i1)"
   ]
  },
  {
   "cell_type": "markdown",
   "metadata": {},
   "source": [
    "#### Booleans"
   ]
  },
  {
   "cell_type": "markdown",
   "metadata": {},
   "source": [
    "None, True or False"
   ]
  },
  {
   "cell_type": "markdown",
   "metadata": {},
   "source": [
    "The first one corresponds to a variable that has not been attributed a type yet, but will receive a value later."
   ]
  },
  {
   "cell_type": "code",
   "execution_count": null,
   "metadata": {},
   "outputs": [],
   "source": [
    "a=None\n",
    "type(a)"
   ]
  },
  {
   "cell_type": "code",
   "execution_count": null,
   "metadata": {},
   "outputs": [],
   "source": [
    "Q1 = True\n",
    "Q2 = False\n",
    "print(\"Q1=\",Q1,\", Q2=\",Q2)\n",
    "print(type(Q1),type(Q2))"
   ]
  },
  {
   "cell_type": "markdown",
   "metadata": {},
   "source": [
    "<div class=\"alert alert-block alert-warning\">\n",
    "<b> Note.</b>\n",
    "\n",
    "To create booleans, we use logical comparators:\n",
    "* <b>==</b> Equality test\n",
    "* <b>!=</b> Difference test\n",
    "* <b>or</b> Comparison\n",
    "*  a <b>and</b> b\n",
    "*  a <b>or</b> b\n",
    "*  <b>not</b> a\n",
    "    \n",
    "</div>\n"
   ]
  },
  {
   "cell_type": "code",
   "execution_count": null,
   "metadata": {},
   "outputs": [],
   "source": [
    "1==2"
   ]
  },
  {
   "cell_type": "code",
   "execution_count": null,
   "metadata": {},
   "outputs": [],
   "source": [
    "1!=2"
   ]
  },
  {
   "cell_type": "code",
   "execution_count": null,
   "metadata": {},
   "outputs": [],
   "source": [
    "a,b=1,2\n",
    "a<b"
   ]
  },
  {
   "cell_type": "code",
   "execution_count": null,
   "metadata": {},
   "outputs": [],
   "source": [
    "x = -2\n",
    "Q3 = (x>0) \n",
    "print(Q3)"
   ]
  },
  {
   "cell_type": "code",
   "execution_count": null,
   "metadata": {},
   "outputs": [],
   "source": [
    "s= 'Python'\n",
    "print('th' in s)\n",
    "print('abc' in s)"
   ]
  },
  {
   "cell_type": "code",
   "execution_count": null,
   "metadata": {},
   "outputs": [],
   "source": [
    "print('abc' not in s)\n",
    "print('abc' in s and 'th' in s)\n",
    "print('abc' in s or 'th' in s)"
   ]
  },
  {
   "cell_type": "markdown",
   "metadata": {},
   "source": [
    "## 2.4 Operations on Variables"
   ]
  },
  {
   "cell_type": "markdown",
   "metadata": {},
   "source": [
    "### 2.4.1. Basic Operations on Real and Complex Numbers\n"
   ]
  },
  {
   "cell_type": "code",
   "execution_count": null,
   "metadata": {},
   "outputs": [],
   "source": [
    "# Addition, subtraction, multiplication, division: + - * /\n",
    "(2 + 9) / (3 * 4 - 1)\n",
    "\n",
    "# Exponent\n",
    "4**2\n",
    "4**(1/2)"
   ]
  },
  {
   "cell_type": "code",
   "execution_count": null,
   "metadata": {},
   "outputs": [],
   "source": [
    "# absolute value\n",
    "print(abs(z1),abs(-1.2))"
   ]
  },
  {
   "cell_type": "code",
   "execution_count": null,
   "metadata": {},
   "outputs": [],
   "source": [
    "# Incrementing/Decrementing a Number\n",
    "x = 8.\n",
    "\n",
    "x += 2  # equivalent to x = x + 2\n",
    "print(x)\n",
    "\n",
    "x -= 4  # equivalent to x = x - 4\n",
    "print(x)\n",
    "\n",
    "# Similar operations with multiplication and division\n",
    "x *= 2  # equivalent to x = x * 2\n",
    "print(x)\n",
    "\n",
    "x /= 2  # equivalent to x = x / 2\n",
    "print(x)"
   ]
  },
  {
   "cell_type": "markdown",
   "metadata": {},
   "source": [
    "#### Integer-Specific Operations"
   ]
  },
  {
   "cell_type": "code",
   "execution_count": null,
   "metadata": {},
   "outputs": [],
   "source": [
    "# Remainder of the division between two integers\n",
    "13 % 2\n"
   ]
  },
  {
   "cell_type": "code",
   "execution_count": null,
   "metadata": {},
   "outputs": [],
   "source": [
    "# Quotient of the division between two integers\n",
    "13 // 2"
   ]
  },
  {
   "cell_type": "code",
   "execution_count": null,
   "metadata": {},
   "outputs": [],
   "source": [
    "# To obtain both the quotient and the remainder\n",
    "divmod(13, 2)  # returns (quotient, remainder)"
   ]
  },
  {
   "cell_type": "markdown",
   "metadata": {},
   "source": [
    "<div class=\"alert alert-block alert-warning\">\n",
    "\n",
    "<b> Note </b>\n",
    "\n",
    "You can also use <b>//</b> and <b>%</b> with decimal numbers.\n",
    "\n",
    "</div>"
   ]
  },
  {
   "cell_type": "code",
   "execution_count": null,
   "metadata": {},
   "outputs": [],
   "source": [
    "13.1 // 2"
   ]
  },
  {
   "cell_type": "code",
   "execution_count": null,
   "metadata": {},
   "outputs": [],
   "source": [
    "13.1 % 2"
   ]
  },
  {
   "cell_type": "markdown",
   "metadata": {},
   "source": [
    "#### Decimal-Specific Operations"
   ]
  },
  {
   "cell_type": "code",
   "execution_count": null,
   "metadata": {},
   "outputs": [],
   "source": [
    "# Rounding a decimal x to n decimal places\n",
    "round(3.1415, 2)\n"
   ]
  },
  {
   "cell_type": "code",
   "execution_count": null,
   "metadata": {},
   "outputs": [],
   "source": [
    "round(9.9882,2)"
   ]
  },
  {
   "cell_type": "code",
   "execution_count": null,
   "metadata": {},
   "outputs": [],
   "source": [
    "# Integer part of a decimal\n",
    "int(4.6)\n"
   ]
  },
  {
   "cell_type": "markdown",
   "metadata": {},
   "source": [
    "#### Complex Number-Specific Operations"
   ]
  },
  {
   "cell_type": "code",
   "execution_count": null,
   "metadata": {},
   "outputs": [],
   "source": [
    "# Real part\n",
    "z1.real"
   ]
  },
  {
   "cell_type": "code",
   "execution_count": null,
   "metadata": {},
   "outputs": [],
   "source": [
    "# Imaginary part\n",
    "z1.imag"
   ]
  },
  {
   "cell_type": "code",
   "execution_count": null,
   "metadata": {},
   "outputs": [],
   "source": [
    "# Conjugate\n",
    "z1.conjugate()"
   ]
  },
  {
   "cell_type": "markdown",
   "metadata": {},
   "source": [
    "### 2.4.2. Basic Operations on Strings"
   ]
  },
  {
   "cell_type": "markdown",
   "metadata": {},
   "source": [
    "<div class=\"alert alert-block alert-warning\">\n",
    "<b> Note.</b>\n",
    "\n",
    "You can or concatenate and multiply strings. For example: 'Py'+'thon' is 'Python' and 3*'bam' is bambambam.  \n",
    "\n",
    "Beware only strings can be concatenated to strings.\n",
    "\n",
    "You can also create strings from data.\n",
    "\n",
    "You can access single characters in a string. Be careful that the first character of a string has index 0. The symbol [] is used to access the character of a given index in a string.\n",
    "</div>"
   ]
  },
  {
   "cell_type": "code",
   "execution_count": null,
   "metadata": {},
   "outputs": [],
   "source": [
    "# Concatenate two strings\n",
    "t1='Py'\n",
    "t2 = 'thon'\n",
    "print(t1 + t2)\n",
    "print(2*t1)"
   ]
  },
  {
   "cell_type": "code",
   "execution_count": null,
   "metadata": {},
   "outputs": [],
   "source": [
    "# Create strings from data - Method 1\n",
    "i = 3\n",
    "x = 1.2e-3\n",
    "l = 'i=%d, x=%.2f, x=%1.3f, x=%1.3e' % (i, x, x, x) #since 0.0012 rounded to 2 decimals = 0.00 , rounded to 3 decimals, scientific notation with 3 decimals\n",
    "l"
   ]
  },
  {
   "cell_type": "code",
   "execution_count": null,
   "metadata": {},
   "outputs": [],
   "source": [
    "# Create strings from data - Method 2 (more modern)\n",
    "i = 3\n",
    "x = 1.2e-3\n",
    "s = 'variables are'\n",
    "l = f'The {s} : i={i}, i={i:d}, x={x:.2f}, x={x:.2e}'\n",
    "l"
   ]
  },
  {
   "cell_type": "markdown",
   "metadata": {},
   "source": [
    "<div class=\"alert alert-block alert-warning\">\n",
    "<b> Note.</b>\n",
    "\n",
    "You can control the display format of variables within a string by specifying their format. The common formats are as follows:\n",
    "* <b>%d</b> for integers or decimals (displays only the integer part)\n",
    "* <b>%.mf</b> for decimals (displays <i>m</i> decimal places)\n",
    "* <b>%.me</b> for decimals (displays the decimal in scientific notation as *.***e0*, with <i>m</i> being the number of decimal places)\n",
    "* <b>%s</b> for strings\n",
    "\n",
    "You can prefix a string with the letter <b>f</b> to create an <b>f-string</b>. The advantage of f-strings is that within them, you can use variable names directly from the program to neatly display their values:\n",
    "\n",
    "    print(f'z1={z1}')\n",
    "\n",
    "We will regularly use this command later.\n",
    "</div>"
   ]
  },
  {
   "cell_type": "code",
   "execution_count": null,
   "metadata": {},
   "outputs": [],
   "source": [
    "# access to single characters\n",
    "word = 'python'\n",
    "word[0]"
   ]
  },
  {
   "cell_type": "code",
   "execution_count": null,
   "metadata": {},
   "outputs": [],
   "source": [
    "word[1]"
   ]
  },
  {
   "cell_type": "code",
   "execution_count": null,
   "metadata": {},
   "outputs": [],
   "source": [
    "word[5]"
   ]
  },
  {
   "cell_type": "markdown",
   "metadata": {},
   "source": [
    "<div class=\"alert alert-block alert-warning\">\n",
    "<b> Note.</b>\n",
    "\n",
    "You can know the nulber of characters in a string (its length) with the function len\n",
    "</div>"
   ]
  },
  {
   "cell_type": "code",
   "execution_count": null,
   "metadata": {},
   "outputs": [],
   "source": [
    "len(word)"
   ]
  },
  {
   "cell_type": "code",
   "execution_count": null,
   "metadata": {},
   "outputs": [],
   "source": [
    "word[len(word)-1]"
   ]
  },
  {
   "cell_type": "markdown",
   "metadata": {},
   "source": [
    "<div class=\"alert alert-block alert-warning\">\n",
    "<b> Note.</b>\n",
    "\n",
    "python has a shortcut, one does not have to write len(word), it works directly with negative indices. The index -1 then corresponds to the last character of a string\n",
    "</div>"
   ]
  },
  {
   "cell_type": "code",
   "execution_count": null,
   "metadata": {},
   "outputs": [],
   "source": [
    "word[-1]"
   ]
  },
  {
   "cell_type": "code",
   "execution_count": null,
   "metadata": {},
   "outputs": [],
   "source": [
    "word[-2]"
   ]
  },
  {
   "cell_type": "markdown",
   "metadata": {},
   "source": [
    "<div class=\"alert alert-block alert-warning\">\n",
    "<b> Note.</b>\n",
    "\n",
    "Python strings cannot be changed by assigning a new character to an indexed position, they are immutable.\n",
    "\n",
    "</div>"
   ]
  },
  {
   "cell_type": "code",
   "execution_count": null,
   "metadata": {},
   "outputs": [],
   "source": [
    "word = 'python'\n",
    "word[0]=J"
   ]
  },
  {
   "cell_type": "markdown",
   "metadata": {},
   "source": [
    "<div class=\"alert alert-block alert-warning\">\n",
    "<b> Note.</b>\n",
    "\n",
    "Instead of accessing a single character we can also get a slice of characters, a substring.\n",
    "\n",
    "You can also combine slicing and strides, meaning that instead of taking every character in between two indices, you can jump over indices, with specified strides\n",
    "\n",
    "</div>"
   ]
  },
  {
   "cell_type": "code",
   "execution_count": null,
   "metadata": {},
   "outputs": [],
   "source": [
    "# Slicing\n",
    "\n",
    "word[0:2]"
   ]
  },
  {
   "cell_type": "code",
   "execution_count": null,
   "metadata": {},
   "outputs": [],
   "source": [
    "word[2:5]"
   ]
  },
  {
   "cell_type": "code",
   "execution_count": null,
   "metadata": {},
   "outputs": [],
   "source": [
    "s= 'this is a string'\n",
    "s[0:-1:2] # a slice from the beginning to the end with strides 2"
   ]
  },
  {
   "cell_type": "code",
   "execution_count": null,
   "metadata": {},
   "outputs": [],
   "source": [
    "s[2:12:5]"
   ]
  },
  {
   "cell_type": "code",
   "execution_count": null,
   "metadata": {},
   "outputs": [],
   "source": [
    "s[::-1] # a slice with a negative stride, it will reverse the string"
   ]
  },
  {
   "cell_type": "markdown",
   "metadata": {},
   "source": [
    "## 2.5 Structures"
   ]
  },
  {
   "cell_type": "markdown",
   "metadata": {},
   "source": [
    "Python has other data types that are used to store together other values and variables in an indexed\n",
    "manner. Here is a description of the native ones: Lists, Tuples and Dictionories"
   ]
  },
  {
   "cell_type": "markdown",
   "metadata": {},
   "source": [
    "### 2.5.1 Lists"
   ]
  },
  {
   "cell_type": "markdown",
   "metadata": {},
   "source": [
    "<div class=\"alert alert-block alert-warning\">\n",
    "<b> Note.</b>\n",
    "\n",
    "* A list is a sequence of elements enclosed in <b>[...]</b>, separated by commas.\n",
    "* The elements of the list can be of different types.\n",
    "* The list `l4` is an example of an empty list.\n",
    "* The list `l5` is an example of a list constructed with repeated elements.\n",
    "\n",
    "</div>"
   ]
  },
  {
   "cell_type": "code",
   "execution_count": null,
   "metadata": {},
   "outputs": [],
   "source": [
    "l1 = [1,3,10]\n",
    "l2 = ['summer',1j,20]\n",
    "l3 = ['summer']\n",
    "l4 = []\n",
    "l5 = 5*[1]\n",
    "print(type(l2))\n",
    "l1,l2,l3,l4,l5"
   ]
  },
  {
   "cell_type": "code",
   "execution_count": null,
   "metadata": {},
   "outputs": [],
   "source": [
    "# Case where the elements of the list are given by a formula\n",
    "l1 = [i-1 for i in range(10)]\n",
    "l2 = [i for i in range(10) if i%2 == 0]\n",
    "l1, l2"
   ]
  },
  {
   "cell_type": "markdown",
   "metadata": {},
   "source": [
    "<div class=\"alert alert-block alert-warning\">\n",
    "<b> Note.</b>\n",
    "\n",
    "Like strings, lists can be indexed and sliced. Unlike strings, they are mutable, i.e. it is possible to change their content: \n",
    "\n",
    "Be careful, The index of the first element in a list is <b>0</b>! \n",
    "\n",
    "</div>"
   ]
  },
  {
   "cell_type": "code",
   "execution_count": null,
   "metadata": {},
   "outputs": [],
   "source": [
    "number = 2.5\n",
    "my_list = [1 , 'a string', number]\n",
    "my_list[1]"
   ]
  },
  {
   "cell_type": "code",
   "execution_count": null,
   "metadata": {},
   "outputs": [],
   "source": [
    " my_list[0:2]"
   ]
  },
  {
   "cell_type": "code",
   "execution_count": null,
   "metadata": {},
   "outputs": [],
   "source": [
    "my_list[-1] = 'another string'\n",
    "my_list"
   ]
  },
  {
   "cell_type": "markdown",
   "metadata": {},
   "source": [
    "<div class=\"alert alert-block alert-warning\">\n",
    "<b> Note.</b>\n",
    "\n",
    "You can also add new items at the end of the list, by using the list.append() or by concatenating lists:\n",
    "\n",
    "</div>"
   ]
  },
  {
   "cell_type": "code",
   "execution_count": null,
   "metadata": {},
   "outputs": [],
   "source": [
    "L = ['January', 'February', 'March', 'April', 'May', 'June', 'July']\n",
    "\n",
    "# The first element\n",
    "L[0]\n",
    "\n",
    "# The second element\n",
    "L[1]\n",
    "\n",
    "# The last element\n",
    "L[-1]\n",
    "\n",
    "# The second-to-last element\n",
    "L[-2]\n",
    "\n",
    "# The first three elements\n",
    "L[:3]\n",
    "\n",
    "# The last three elements\n",
    "L[-3:]\n",
    "\n",
    "# Accessing elements (See Figure below)\n",
    "L[:3]  # elements from index 0 to 2\n",
    "L[2:]  # all elements starting from index 2\n",
    "L[1:5]  # elements from index 1 to 4\n",
    "L[3:-1]  # elements from index 3 to the second-to-last\n",
    "L[-3:]  # all elements starting from the third-to-last\n",
    "L[:]  # all elements\n",
    "L[1::2]  # every second element starting from index 1\n",
    "L[::-1]  # all elements in reverse order\n",
    "L[-2:0:-1]  # elements starting from the second-to-last in reverse order\n",
    "L[-1:1:-2]  # elements starting from the last to the second in reverse order, skipping one step\n"
   ]
  },
  {
   "cell_type": "code",
   "execution_count": null,
   "metadata": {},
   "outputs": [],
   "source": [
    "number = 2.5\n",
    "my_list = [1 , 'a string', number ]\n",
    "my_list.append(42)\n",
    "my_list"
   ]
  },
  {
   "cell_type": "code",
   "execution_count": null,
   "metadata": {},
   "outputs": [],
   "source": [
    "i = 2\n",
    "my_list.insert(i, 'Monday')\n",
    "my_list.insert(i+2, 'Monday')\n",
    "print(my_list)"
   ]
  },
  {
   "cell_type": "code",
   "execution_count": null,
   "metadata": {},
   "outputs": [],
   "source": [
    "# Remove the first occurrence of the element 'Monday'\n",
    "my_list.remove('Monday')\n",
    "print(L)\n",
    "\n",
    "# Remove the last element from the list\n",
    "my_list.pop()\n",
    "print(L)\n",
    "\n",
    "# Remove the element at position i in the list\n",
    "my_list.pop(3)\n",
    "print(L)"
   ]
  },
  {
   "cell_type": "code",
   "execution_count": null,
   "metadata": {},
   "outputs": [],
   "source": [
    "new_list = my_list + ['is the answer to life', 3.14]\n",
    "new_list"
   ]
  },
  {
   "cell_type": "code",
   "execution_count": null,
   "metadata": {},
   "outputs": [],
   "source": [
    "L=[0,1,2,3,4,5,6,7]\n",
    "len(L),L[1::3]"
   ]
  },
  {
   "cell_type": "code",
   "execution_count": null,
   "metadata": {},
   "outputs": [],
   "source": [
    "L[4],L[::-1]"
   ]
  },
  {
   "cell_type": "code",
   "execution_count": null,
   "metadata": {},
   "outputs": [],
   "source": [
    "l = [10, 3, -2, 8, -5, 1, -3, 9]\n",
    "print(l)\n",
    "\n",
    "# Sort a list in ascending order\n",
    "l.sort()\n",
    "print(l)\n",
    "\n",
    "# Sort a list in descending order\n",
    "l.sort(reverse=True)\n",
    "print(l)\n",
    "\n",
    "# Reverse a list\n",
    "l.reverse()\n",
    "print(l)\n",
    "\n",
    "# Clear a list\n",
    "l.clear()\n",
    "print(l)"
   ]
  },
  {
   "cell_type": "code",
   "execution_count": null,
   "metadata": {},
   "outputs": [],
   "source": [
    "# Element Search\n",
    "L = ['January', 'February', 'March', 'April', 'May', 'June', 'July']\n",
    "\n",
    "print('October' in L)  # returns a boolean True if 'October' is an element of the list, False otherwise\n",
    "print('October' not in L)  # returns a boolean True if 'October' is not an element of the list, False otherwise\n",
    "print(L.index('March'))  # returns an integer representing the position of 'March' in the list\n",
    "L.count('March')  # returns the number of times 'March' appears in the list\n"
   ]
  },
  {
   "cell_type": "code",
   "execution_count": null,
   "metadata": {},
   "outputs": [],
   "source": [
    "l = [-1, 0, 1, 2, 3, 4, 5, 6, 7, 8]\n",
    "max(l), min(l), sum(l)"
   ]
  },
  {
   "cell_type": "markdown",
   "metadata": {},
   "source": [
    "<div class=\"alert alert-block alert-warning\">\n",
    "    \n",
    "<b>Methods on lists:</b>  l.append(), l.clear(), l.count(), l.index(), l.insert(), l.pop(), l.sort(), l.reverse()   \n",
    "\n",
    "</div>"
   ]
  },
  {
   "cell_type": "markdown",
   "metadata": {},
   "source": [
    "<div class=\"alert alert-block alert-info\">\n",
    "<b>Exercise.</b>\n",
    "    \n",
    "- Create a list called fruits with 'apple', 'banana', 'cherry'.\n",
    "- Add 'orange' to the list.\n",
    "- Remove 'banana'.\n",
    "- Print the final list.\n",
    "</div>"
   ]
  },
  {
   "cell_type": "code",
   "execution_count": null,
   "metadata": {},
   "outputs": [],
   "source": [
    "fruits = ['apple', 'banana', 'cherry']\n",
    "fruits.append('orange')\n",
    "fruits.remove('banana')\n",
    "print(fruits)  # Output: ['apple', 'cherry', 'orange']"
   ]
  },
  {
   "cell_type": "markdown",
   "metadata": {},
   "source": [
    "<div class=\"alert alert-block alert-info\">\n",
    "<b>Exercise.</b>\n",
    "    \n",
    "- Create a list of numbers: [5, 3, 8, 1].\n",
    "- Sort the list in ascending order.\n",
    "- Print the smallest and largest number.\n",
    "</div>"
   ]
  },
  {
   "cell_type": "code",
   "execution_count": null,
   "metadata": {},
   "outputs": [],
   "source": [
    "numbers = [5, 3, 8, 1]\n",
    "numbers.sort()\n",
    "print(\"Smallest:\", numbers[0])     # Output: 1\n",
    "print(\"Largest:\", numbers[-1])     # Output: 8"
   ]
  },
  {
   "cell_type": "markdown",
   "metadata": {},
   "source": [
    "### 2.5.1 Tuples"
   ]
  },
  {
   "cell_type": "markdown",
   "metadata": {},
   "source": [
    "<div class=\"alert alert-block alert-warning\">\n",
    "<b> Note.</b>\n",
    "\n",
    "* A <b>tuple</b> is a sequence of elements enclosed in <b>(...)</b>, separated by commas, or simply a sequence of elements separated by commas.\n",
    "* The elements of the tuple can be of different types.\n",
    "* The tuple `t4` is an example of an empty tuple.\n",
    "\n",
    "</div>"
   ]
  },
  {
   "cell_type": "code",
   "execution_count": null,
   "metadata": {},
   "outputs": [],
   "source": [
    "t1 = (1,3,10)\n",
    "t2 = 'summer',1j,20\n",
    "t3 = ('summer',)\n",
    "t4 = ()\n",
    "print(type(t2))\n",
    "t1,t2,t3,t4"
   ]
  },
  {
   "cell_type": "markdown",
   "metadata": {},
   "source": [
    "<div class=\"alert alert-block alert-warning\">\n",
    "<b> Note.</b>\n",
    "\n",
    "Tuples are similar to lists but they are immutable. They are typically used to store data that\n",
    "you do not want to modify. They are created with comma separated data usually surrounded by\n",
    "parenthesis. Tuples are often used to store data of different types that should not be lost.\n",
    "\n",
    "</div>"
   ]
  },
  {
   "cell_type": "code",
   "execution_count": null,
   "metadata": {},
   "outputs": [],
   "source": [
    "l = [1 , 4, 9, 16]\n",
    "t = (1 , 'a', l)\n",
    "t"
   ]
  },
  {
   "cell_type": "code",
   "execution_count": null,
   "metadata": {},
   "outputs": [],
   "source": [
    "t [1]\n"
   ]
  },
  {
   "cell_type": "code",
   "execution_count": null,
   "metadata": {},
   "outputs": [],
   "source": [
    "t[2] = [0]"
   ]
  },
  {
   "cell_type": "markdown",
   "metadata": {},
   "source": [
    "### 2.5.3 Dictionaries"
   ]
  },
  {
   "cell_type": "markdown",
   "metadata": {},
   "source": [
    "<div class=\"alert alert-block alert-warning\">\n",
    "<b> Note.</b>\n",
    "\n",
    "A dictionary is a collection of couples (key, value) called items. It is very convenient to map objects together, for example a list of students with their age:\n",
    "</div>"
   ]
  },
  {
   "cell_type": "code",
   "execution_count": null,
   "metadata": {},
   "outputs": [],
   "source": [
    "d = {'Bob' : 20 , 'Sam': 22 , 'Liz' : 21} # the keys are the names and the values the ages"
   ]
  },
  {
   "cell_type": "markdown",
   "metadata": {},
   "source": [
    "<div class=\"alert alert-block alert-warning\">\n",
    "<b> Note.</b>\n",
    "\n",
    "Dictionaries are not indexable, the values are accessed with the keys\n",
    "</div>"
   ]
  },
  {
   "cell_type": "code",
   "execution_count": null,
   "metadata": {},
   "outputs": [],
   "source": [
    "d[0]"
   ]
  },
  {
   "cell_type": "code",
   "execution_count": null,
   "metadata": {},
   "outputs": [],
   "source": [
    "d['Sam']"
   ]
  },
  {
   "cell_type": "markdown",
   "metadata": {},
   "source": [
    "<div class=\"alert alert-block alert-warning\">\n",
    "<b> Note.</b>\n",
    "\n",
    "The number of items in a dictionary is given by the function len.  \n",
    "\n",
    "You can obtain a list of the keys in a dictionary d with list(d). It is important to note that the values are mutable: d[’Bob’] = 27 is accepted. Similarly one can add a key directly with d[’Eve’] = 20.  \n",
    "</div>"
   ]
  },
  {
   "cell_type": "code",
   "execution_count": null,
   "metadata": {},
   "outputs": [],
   "source": [
    "len(d)"
   ]
  },
  {
   "cell_type": "code",
   "execution_count": null,
   "metadata": {},
   "outputs": [],
   "source": [
    "d['Bob']"
   ]
  },
  {
   "cell_type": "code",
   "execution_count": null,
   "metadata": {},
   "outputs": [],
   "source": [
    "d['Bob']=27\n",
    "d['Bob']"
   ]
  },
  {
   "cell_type": "markdown",
   "metadata": {},
   "source": [
    "<div class=\"alert alert-block alert-info\">\n",
    "<b>Exercise.</b>\n",
    "    \n",
    "- Create a dictionary called person with keys:   \n",
    "    * 'name': 'Alice'\n",
    "    * 'age': 25\n",
    "\n",
    "  \n",
    "- Print the value of 'name'.\n",
    "- Add a new key 'city' with value 'Paris'.\n",
    "</div>"
   ]
  },
  {
   "cell_type": "code",
   "execution_count": null,
   "metadata": {},
   "outputs": [],
   "source": [
    "person = {'name': 'Alice', 'age': 25}\n",
    "print(person['name'])  # Output: Alice\n",
    "person['city'] = 'Paris'\n",
    "print(person)  # Output: {'name': 'Alice', 'age': 25, 'city': 'Paris'}"
   ]
  },
  {
   "cell_type": "markdown",
   "metadata": {},
   "source": [
    "### 2.5.4 Conversion"
   ]
  },
  {
   "cell_type": "code",
   "execution_count": null,
   "metadata": {},
   "outputs": [],
   "source": [
    "l1 = [-1, 0, 1, 2, 3, 4, 5, 6, 7, 8]\n",
    "tuple(l1)"
   ]
  },
  {
   "cell_type": "code",
   "execution_count": null,
   "metadata": {},
   "outputs": [],
   "source": [
    "t1 =(1, 3, 10)\n",
    "list(t1)"
   ]
  },
  {
   "cell_type": "markdown",
   "metadata": {},
   "source": [
    "# 3. Functions"
   ]
  },
  {
   "cell_type": "markdown",
   "metadata": {},
   "source": [
    "The two common commands for creating functions are <b>lambda</b> and <b>def</b>.   \n",
    "We will briefly describe them here and revisit their construction throughout the course as programming tools are introduced."
   ]
  },
  {
   "cell_type": "markdown",
   "metadata": {},
   "source": [
    "### The Lambda Command"
   ]
  },
  {
   "cell_type": "markdown",
   "metadata": {},
   "source": [
    "<div class=\"alert alert-block alert-warning\">\n",
    "<b> Some tips before getting started.</b>\n",
    "\n",
    "The <b>lambda</b> command is used to define functions with a simple expression that does not require additional programming elements.\n",
    "The syntax is as follows:\n",
    "\n",
    "        functionName = lambda listOfArguments : result\n",
    "\n",
    "A function can, of course, have more than one argument; they are separated by commas in the definition.  \n",
    "You can assign a default value to an argument by writing <b>x=defaultValue</b> instead of <b>x</b>, but in this case, all subsequent arguments must also have a default value.  \n",
    "A function can also have multiple outputs.  \n",
    "\n",
    "⚠️ For multiple outputs, use the syntax <b>(.,.,.)</b> or <b>[.,.,.]</b>.\n",
    "\n",
    "Note that the use of this command is now depreciated.\n",
    "</div>"
   ]
  },
  {
   "cell_type": "code",
   "execution_count": null,
   "metadata": {},
   "outputs": [],
   "source": [
    "f1 = lambda x:x*2\n",
    "f1(2)"
   ]
  },
  {
   "cell_type": "code",
   "execution_count": null,
   "metadata": {},
   "outputs": [],
   "source": [
    "f2 = lambda x,y : x+y\n",
    "f2(1,3)"
   ]
  },
  {
   "cell_type": "code",
   "execution_count": null,
   "metadata": {},
   "outputs": [],
   "source": [
    "f3 = lambda x=1,y=2 : x+y\n",
    "f3(),f3(x=2),f3(2,3)"
   ]
  },
  {
   "cell_type": "code",
   "execution_count": null,
   "metadata": {},
   "outputs": [],
   "source": [
    "f4 = lambda x : (x**2,x)\n",
    "f4(2)"
   ]
  },
  {
   "cell_type": "markdown",
   "metadata": {},
   "source": [
    "### The Def Command"
   ]
  },
  {
   "cell_type": "code",
   "execution_count": null,
   "metadata": {},
   "outputs": [],
   "source": [
    "def f(x):\n",
    "    \"\"\"\n",
    "    f is the name of the function\n",
    "    x is the input of the function\n",
    "    \"\"\"\n",
    "    y = x**2 + 1  \n",
    "    return y  # function output\n",
    "\n",
    "f(3) "
   ]
  },
  {
   "cell_type": "markdown",
   "metadata": {},
   "source": [
    "<div class=\"alert alert-block alert-warning\">\n",
    "<b> Some tips before getting started.</b>\n",
    "\n",
    "The syntax is as follows:\n",
    "\n",
    "        def functionName(listOfArguments):\n",
    "            Instruction1\n",
    "            Instruction2\n",
    "            return result\n",
    "        \n",
    " \n",
    "\n",
    "⚠️ Pay attention to indentation. The content of your function consists of all the instructions located under the <b>def ...</b> line that have indentation!\n",
    "\n",
    "When the interpreter encounters the keyword <b>return</b>, it stops and returns the function's result.  \n",
    "This means that multiple <b>return</b> statements can be used, for example, to define piecewise functions.\n",
    "\n",
    "A function can, of course, have more than one argument; they are separated by commas in the definition.  \n",
    "You can assign a default value to an argument by writing <b>x=defaultValue</b> instead of <b>x</b>, but in this case, all subsequent arguments must also have a default value.\n",
    "\n",
    "A function may have no arguments and return no value (i.e., it does not contain a <b>return</b> statement).  \n",
    "This can be the case when the output is a graphical representation—in this case, the function's result is <b>None</b>.\n",
    "\n",
    "</div>"
   ]
  },
  {
   "cell_type": "code",
   "execution_count": null,
   "metadata": {},
   "outputs": [],
   "source": [
    "def Heaviside(x):\n",
    "    if x<0:\n",
    "        return 0\n",
    "    return 1\n",
    "Heaviside(3),Heaviside(-3) "
   ]
  },
  {
   "cell_type": "code",
   "execution_count": null,
   "metadata": {},
   "outputs": [],
   "source": [
    "def g(x, y):\n",
    "    \"\"\"\n",
    "    Example of a function with multiple variables and multiple outputs\n",
    "    \"\"\"\n",
    "    return x**2 - y, y**2 + 1, x * y\n",
    "\n",
    "u, v, w = g(3, 1)\n",
    "Z = g(3, 1)\n",
    "u, v, w, Z"
   ]
  },
  {
   "cell_type": "code",
   "execution_count": null,
   "metadata": {},
   "outputs": [],
   "source": [
    "def myfunction(a=1, b=2):\n",
    "    return a+b\n",
    "myfunction(0,2),myfunction(),myfunction(a=2)"
   ]
  },
  {
   "cell_type": "markdown",
   "metadata": {},
   "source": [
    "#### Your Turn to try"
   ]
  },
  {
   "cell_type": "markdown",
   "metadata": {},
   "source": [
    "<div class=\"alert alert-block alert-info\">\n",
    "<b>Exercise.</b>\n",
    "\n",
    "* Define the function \\( g_1(x) = x^3 + 2x - 4 \\) using both the <b>lambda</b> and <b>def</b> commands. Evaluate \\( g_1 \\) at \\( x = 0 \\) and \\( x = -2 \\).\n",
    "* Define the function \\( g_2(x, y) = (x^2 + y^2, \\sin(2 * \\pi y)) \\). Evaluate this function at \\( (1, -0.5) \\).\n",
    "\n",
    "</div>"
   ]
  },
  {
   "cell_type": "code",
   "execution_count": null,
   "metadata": {},
   "outputs": [],
   "source": [
    "import math\n",
    "g1 = lambda x : x**3+2*x-4 \n",
    "def g1b(x):\n",
    "    return x**3+2*x-4 \n",
    "print(g1(0),g1b(0),g1(-2),g1b(-2))\n",
    "\n",
    "g2 = lambda x,y : (x**2+y**2,math.sin(2*math.pi*x))\n",
    "def g2b(x,y):\n",
    "    return x**2+y**2,math.sin(2*math.pi*x)\n",
    "print(g2(1,-1),g2b(1,-1)) "
   ]
  },
  {
   "cell_type": "markdown",
   "metadata": {},
   "source": [
    "<div class=\"alert alert-block alert-info\">\n",
    "<b>Exercise.</b>\n",
    "\n",
    "Write a function add(a, b) that returns the sum of two numbers.\n",
    "\n",
    "</div>"
   ]
  },
  {
   "cell_type": "code",
   "execution_count": null,
   "metadata": {},
   "outputs": [],
   "source": [
    "def add(a, b):\n",
    "    return a + b\n",
    "\n",
    "print(add(3, 5)) "
   ]
  },
  {
   "cell_type": "markdown",
   "metadata": {},
   "source": [
    "<div class=\"alert alert-block alert-info\">\n",
    "<b>Exercise.</b>\n",
    "\n",
    "Write a function is_even(n) that returns True if n is even, else False.\n",
    "\n",
    "</div>"
   ]
  },
  {
   "cell_type": "code",
   "execution_count": null,
   "metadata": {},
   "outputs": [],
   "source": [
    "def is_even(n):\n",
    "    return n % 2 == 0\n",
    "\n",
    "print(is_even(4))  \n",
    "print(is_even(7)) "
   ]
  },
  {
   "cell_type": "markdown",
   "metadata": {},
   "source": [
    "<div class=\"alert alert-block alert-info\">\n",
    "<b>Exercise.</b>\n",
    "\n",
    "Write a function max_of_three(a, b, c) that returns the largest number.\n",
    "</div>"
   ]
  },
  {
   "cell_type": "code",
   "execution_count": null,
   "metadata": {},
   "outputs": [],
   "source": [
    "def max_of_three(a, b, c):\n",
    "    return max(a, b, c)\n",
    "\n",
    "print(max_of_three(10, 5, 8))"
   ]
  },
  {
   "cell_type": "markdown",
   "metadata": {},
   "source": [
    "# 4. Instruction Box"
   ]
  },
  {
   "cell_type": "markdown",
   "metadata": {},
   "source": [
    "### If Statements"
   ]
  },
  {
   "cell_type": "markdown",
   "metadata": {},
   "source": [
    "<div class=\"alert alert-block alert-warning\">\n",
    "The <b>if</b> statement allows executing instruction blocks if a test is true. It takes the following form:\n",
    "\n",
    "    if Test:\n",
    "        Instruction1\n",
    "        Instruction2\n",
    "\n",
    "For nested conditions, you can use the <b>elif</b> keyword to chain multiple tests:\n",
    "\n",
    "    if Test1:\n",
    "        Instruction1\n",
    "    elif Test2:\n",
    "        Instruction2\n",
    "\n",
    "In this case, if Test1 is true, Instruction1 is executed. If Test1 is false, then Test2 is checked, and if it is true, Instruction2 is executed.  \n",
    "Thus, there are two possible execution paths: if Test1 is true (regardless of Test2), or if Test1 is false and Test2 is true.  \n",
    "Among the four possible truth values for the pair (Test1, Test2), three cases are covered.\n",
    "\n",
    "Finally, this structure can be completed with the <b>else:</b> keyword, followed by an instruction block that will execute if all previous tests fail (i.e., are false):\n",
    "\n",
    "    if Test1:\n",
    "        Instruction1\n",
    "    elif Test2:\n",
    "        Instruction2\n",
    "    else:\n",
    "        Instruction3\n",
    "\n",
    "This time, when (Test1, Test2) is (false, false), Instruction3 is executed.\n",
    "\n",
    "Note that regardless of the structure chosen, execution continues with the instructions at the same indentation level as the first <b>if</b> statement.\n",
    "\n",
    "</div>"
   ]
  },
  {
   "cell_type": "code",
   "execution_count": null,
   "metadata": {},
   "outputs": [],
   "source": [
    "# Example of an if statement\n",
    "x = 3\n",
    "z = x**2 - 2*x + 1\n",
    "\n",
    "if z < 1:\n",
    "    y = 0\n",
    "elif z < 3:  # z in (1,3)\n",
    "    y = 1\n",
    "else:  # z > 3\n",
    "    y = 2\n",
    "\n",
    "y"
   ]
  },
  {
   "cell_type": "markdown",
   "metadata": {},
   "source": [
    "### for/while loops"
   ]
  },
  {
   "cell_type": "markdown",
   "metadata": {},
   "source": [
    "<div class=\"alert alert-block alert-warning\">\n",
    "The <b>for</b> and <b>while</b> statements are used to execute the same block of instructions multiple times without having to rewrite them.  \n",
    "\n",
    "Let's start with the <b>while</b> loop, which is written as follows:\n",
    "\n",
    "    while Test:\n",
    "        Instruction1\n",
    "        Instruction2\n",
    "        ...\n",
    "\n",
    "First, <b>Test</b> is checked. If it is true, the instructions inside the block are executed.  \n",
    "Once the block is completed, execution returns to the <b>while</b> statement, and <b>Test</b> is checked again.  \n",
    "As long as (<i>while</i> in English) the condition remains true, the loop continues.  \n",
    "Obviously, the loop should modify the condition being tested; otherwise, it will run indefinitely.\n",
    "\n",
    "Now let's look at the <b>for</b> loop.  \n",
    "In Python, a <b>for</b> loop corresponds mathematically to ∀ (\"for all\").  \n",
    "Syntactically, it is written as follows:\n",
    "\n",
    "    for i in I:\n",
    "        Instruction1\n",
    "        Instruction2\n",
    "        ...\n",
    "\n",
    "What makes this powerful is that <b>I</b> can be any iterable object:\n",
    "* Tuples: elements are traversed in order.\n",
    "* Lists: same as above.\n",
    "* Sets: elements are traversed one by one in an unspecified order.\n",
    "* Strings: characters are traversed from left to right.\n",
    "* Any other enumerable structure.\n",
    "\n",
    "</div>"
   ]
  },
  {
   "cell_type": "code",
   "execution_count": null,
   "metadata": {},
   "outputs": [],
   "source": [
    "# Example of an WHILE statement\n",
    "n=0\n",
    "y=1\n",
    "while y<20 and n<100:\n",
    "    n +=1\n",
    "    y = y**2-3*y\n",
    "print('n=',n,', y=',y)"
   ]
  },
  {
   "cell_type": "markdown",
   "metadata": {},
   "source": [
    "<div class=\"alert alert-block alert-warning\">\n",
    "<b> Note.</b>\n",
    "\n",
    "To avoid infinite loops, it is highly recommended to include a counter in the loop's conditions.  \n",
    "In the example above, this is the role of <b>n</b>, which is limited to a maximum value of 100.\n",
    "</div>\n"
   ]
  },
  {
   "cell_type": "code",
   "execution_count": null,
   "metadata": {},
   "outputs": [],
   "source": [
    "# FOR loop - example of constructing a sequence by recurrence\n",
    "u = [0.0] * 10\n",
    "print(u)\n",
    "\n",
    "u[0] = 1.0\n",
    "print(u)\n",
    "\n",
    "for n in range(9):  # iterating over integers from 0 to 8\n",
    "    u[n + 1] = u[n] * 2 + 3\n",
    "\n",
    "print(u)"
   ]
  },
  {
   "cell_type": "code",
   "execution_count": null,
   "metadata": {},
   "outputs": [],
   "source": [
    "# FOR loop - example of iterating through a list\n",
    "L = [12, 20, 3, 7, 9, 32, 12, 25]\n",
    "print(L)\n",
    "\n",
    "newL = []\n",
    "for val in L:  # iterating through the elements of list L\n",
    "    newL.append(max(val, 10))\n",
    "    print(newL)\n",
    "\n",
    "newL\n"
   ]
  },
  {
   "cell_type": "markdown",
   "metadata": {},
   "source": [
    "#### Your Turn to Try"
   ]
  },
  {
   "cell_type": "markdown",
   "metadata": {},
   "source": [
    "<div class=\"alert alert-block alert-info\">\n",
    "<b>Exercise.</b>\n",
    "\n",
    "- Create a dictionary of student scores with :\n",
    "    * Names as keys ('Alice', 'Bob', 'Charlie')\n",
    "    * Scores as values (85, 90, 78)\n",
    "- Add a new student 'Diana' with score 92\n",
    "- Print only the names of students who scored more than 80\n",
    "</div>"
   ]
  },
  {
   "cell_type": "code",
   "execution_count": null,
   "metadata": {},
   "outputs": [],
   "source": [
    "scores = {'Alice': 85, 'Bob': 90, 'Charlie': 78}\n",
    "scores['Diana'] = 92\n",
    "\n",
    "for name, score in scores.items():\n",
    "    if score > 80:\n",
    "        print(name)  # Alice, Bob, Diana"
   ]
  },
  {
   "cell_type": "markdown",
   "metadata": {},
   "source": [
    "<div class=\"alert alert-block alert-info\">\n",
    "<b>Exercise.</b>\n",
    "<b> Fibonacci Sequence.</b>\n",
    "    \n",
    "Create a function that computes the first n terms of the Fibonacci sequence:\n",
    "\n",
    "    $$\\begin{cases} u_{n+1}=u_n+u_{n-1}\\\\u_0=1,\\, u_1=1\\end{cases}$$\n",
    "    \n",
    "and display the first 10 values of the sequence.\n",
    "</div>\n"
   ]
  },
  {
   "cell_type": "code",
   "execution_count": null,
   "metadata": {},
   "outputs": [],
   "source": [
    "# @hide_input\n",
    "# Fibonacci Sequence\n",
    "def fib(n):\n",
    "    if n == 0:\n",
    "        return 1\n",
    "    elif n == 1:\n",
    "        return 1\n",
    "    else:\n",
    "        return fib(n - 1) + fib(n - 2)\n",
    "    \n",
    "\n",
    "for i in range(10):\n",
    "    print(fib(i))\n"
   ]
  },
  {
   "cell_type": "markdown",
   "metadata": {},
   "source": [
    "<div class=\"alert alert-block alert-info\">\n",
    "<b>Exercise.</b>\n",
    "    \n",
    "Write a function multiply_list(numbers) that returns the product of all numbers in a list.\n",
    "</div>"
   ]
  },
  {
   "cell_type": "code",
   "execution_count": null,
   "metadata": {},
   "outputs": [],
   "source": [
    "def multiply_list(numbers):\n",
    "    result = 1\n",
    "    for num in numbers:\n",
    "        result *= num\n",
    "    return result\n",
    "\n",
    "print(multiply_list([1, 2, 3, 4])) "
   ]
  },
  {
   "cell_type": "markdown",
   "metadata": {},
   "source": [
    "# 5. Libraries\n",
    "\n",
    "To access common mathematical functions or standard variables like $\\pi$, you need to import the math library or the numpy library, which we will discuss in more detail later."
   ]
  },
  {
   "cell_type": "markdown",
   "metadata": {},
   "source": [
    "## 5.1 Numpy Library"
   ]
  },
  {
   "cell_type": "markdown",
   "metadata": {},
   "source": [
    "<div class=\"alert alert-block alert-warning\">\n",
    "\n",
    "## importing a library.\n",
    "\n",
    "The <b>import</b> command will allow you to import a library.\n",
    "All functions will then be accessible as follows:\n",
    "\n",
    "\"library name\".\"function name\"\n",
    "\n",
    "This syntax can seem a bit tedious, especially if the function name is long. To remedy this, we have several alternatives\n",
    "* Import just the functions or variables you need:\n",
    "\n",
    "from \"library name\" import \"function name\"\n",
    "* Import all elements from the library:\n",
    "\n",
    "from \"library name\" import *\n",
    "* Give a nickname to the library that we will then use to call the functions:\n",
    "\n",
    "import \"library name\" as \"diminutive\"\n",
    "</div>"
   ]
  },
  {
   "cell_type": "code",
   "execution_count": null,
   "metadata": {},
   "outputs": [],
   "source": [
    "import numpy as np\n",
    "\n",
    "np.cos(np.pi)"
   ]
  },
  {
   "cell_type": "markdown",
   "metadata": {},
   "source": [
    "<div class=\"alert alert-block alert-warning\">\n",
    "\n",
    "This is the essential <b>numpy</b> library for doing scientific calculations! It\n",
    "\n",
    "* Includes most classic constants and functions\n",
    "\n",
    "* Constants\n",
    "\n",
    "pi, e, tau, inf, nan\n",
    "* Logarithm, exponential, power functions\n",
    "\n",
    "exp,log,pow\n",
    "* Trigonometric functions\n",
    "\n",
    "cos,sin,tan,cotan,acos,asin,atan,acotan\n",
    "* Hyperbolic functions\n",
    "\n",
    "cosh,sinh,tanh,cotanh,acosh,asinh,atanh,acotanh\n",
    "* Arithmetic and representation functions\n",
    "\n",
    "ceil, floor, gcd,...\n",
    "* Special functions\n",
    "\n",
    "erf, ...\n",
    "\n",
    "* Easy management of tables/matrices\n",
    "\n",
    "np.array, np.arange, np.linspace,np.zeros, np.ones, np.eye,np.dot...\n",
    "\n",
    "* A linear algebra library\n",
    "\n",
    "np.linalg.det,np.linalg.solve,...\n",
    "\n",
    "To import the library, simply start your code with\n",
    "\n",
    "import numpy as np\n",
    "\n",
    "Note that using the shortcut <b>np</b> is standard.\n",
    "\n",
    "</div>"
   ]
  },
  {
   "cell_type": "markdown",
   "metadata": {},
   "source": [
    "### 5.1.1 Definition and management of numpy arrays"
   ]
  },
  {
   "cell_type": "markdown",
   "metadata": {},
   "source": [
    "#### Predefined tables\n",
    "\n",
    "<div class=\"alert alert-block alert-warning\">\n",
    "The numpy library offers a number of predefined arrays:\n",
    "\n",
    "* The array that contains only 0's <b>np.zeros(n)</b> or <b>np.zeros((n,m))</b>\n",
    "* The array that contains only 1 <b>np.ones(n)</b> or <b>np.ones((n,m))</b>\n",
    "* The identity matrix that can be obtained from the command </b>np.identity(n)</b> or <b>np.eye(n)</b>\n",
    "\n",
    "Note that the commands <b> np.zeros(n) </b> and <b> np.ones(n) </b> generate \"vectors\" of size $(n,)$ (neither row nor column)\n",
    "while the <b>np.zeros((n,m))</b> and <b>np.ones((n,m))</b> commands generate matrices of size $(n,m)$. The <b>np.identity(n)</b> or <b>np.eye(n)</b> commands\n",
    "generate square matrices of size $(n,n)$. Let's take a closer look at the <b>np.eye</b> command, which is useful for creating tridiagonal matrices in particular:\n",
    "\n",
    "* <b>np.eye(n,k=i)</b> allows you to construct a matrix that contains 1s on the over (for a positive i) or under (for a negative i) diagonal of position i.\n",
    "\n",
    "The <b>numpy.random</b> library offers tables whose coefficients are drawn randomly, for example\n",
    "\n",
    "* <b>np.randon.rand(n)</b> or <b>np.randon.rand(n,m)</b> for uniformly distributed values\n",
    "* <b>np.randon.randn(n)</b> or <b>np.randon.randn(n,m)</b> for values ​​that follow a normal distribution\n",
    "* <b>np.randon.randint(val, size=(n,m))</b> for integer values ​​uniformly distributed between 0 and val-1.\n",
    "\n",
    "A more recent version of this library is to use the <b>default_rng</b> generator and access the various functions in the following way\n",
    "\n",
    "from numpy.random import default_rng\n",
    "rng = default_rng()\n",
    "rng.*(...)\n",
    "\n",
    "</div>"
   ]
  },
  {
   "cell_type": "code",
   "execution_count": null,
   "metadata": {},
   "outputs": [],
   "source": [
    "# The null matrix of size (n,m)\n",
    "n, m = 3, 5\n",
    "C = np.zeros((n, m))\n",
    "print(f\"{C=}\")\n",
    "# The matrix whose coefficients are all equal to 1 of size (n,m)\n",
    "n, m = 3, 2\n",
    "E = np.ones((n, m))\n",
    "print(f\"E={E}\")\n",
    "# The identity matrix of size (n,n)\n",
    "D1 = np.eye(n)\n",
    "print(f\"D1={D1}\")\n",
    "D2 = np.identity(n)\n",
    "print(f\"D2={D2}\")\n",
    "# The matrices generated by the np.eye command\n",
    "A1 = np.eye(4, k=-1)\n",
    "A2 = np.eye(4, k=2)\n",
    "print(f\"A1={A1}\")\n",
    "print(f\"A2={A2}\")\n",
    "# Random coefficient matrices in the np.random library\n",
    "R = np.random.rand(n, m)  # Uniformly distributed values.\n",
    "print(f\"R={R}\")\n",
    "R = np.random.randn(n)  # Normally distributed values.\n",
    "print(f\"{R=}\")\n",
    "R = np.random.randint(3, size=(2, 3))  # Uniformly distributed integers in a given range\n",
    "print(f\"{R=}\")"
   ]
  },
  {
   "cell_type": "code",
   "execution_count": null,
   "metadata": {},
   "outputs": [],
   "source": [
    "from numpy.random import default_rng\n",
    "\n",
    "rng = default_rng()\n",
    "rng.random((10, 2))"
   ]
  },
  {
   "cell_type": "markdown",
   "metadata": {},
   "source": [
    "#### Building tables\n",
    "\n",
    "<div class=\"alert alert-block alert-warning\">\n",
    "The <b>np.array</b> command is used to manually create arrays or matrices. The syntax is as follows:\n",
    "\n",
    "np.array([...]) for a \"vector\"\n",
    "np.array([[.],[.],...]) for a matrix\n",
    "\n",
    "\n",
    "<b>Table size and format</b>\n",
    "\n",
    "We can use\n",
    "\n",
    "* the <b>np.shape</b> command to retrieve the size of the array. In the case of \"vector\", the size is of the form $(n,)$ while in the case of matrices, the size is of the form $(n,m)$.\n",
    "* the <b>len</b> command allows you to retrieve the value of $n$ for a \"vector\".\n",
    "* the <b>np.size</b> command allows you to retrieve the number of elements in an array, therefore $n*m$ in the case of a matrix of size $(n,m)$.\n",
    "* the <b>np.ndim</b> command allows you to retrieve the number of dimensions of the matrix.\n",
    "* the <b>np.reshape</b> command allows you to change the size of the array. For example, if $A$ is a vector of length $n*m$, <b>A.reshape((n,m))</b> is a matrix of size $(n,m)$. Conversely, if $A$ is a matrix of size $n*m$, <b>A.reshape(n*m)</b> is a vector of size $n*m$.\n",
    "\n",
    "We can also, when we have an expression of the coefficients $A_{ij}$ of the matrix, use loops to define them. Be careful, we must have initialized the matrix before.\n",
    "\n",
    "<b>Access to table coefficients</b>\n",
    "\n",
    "We can modify the coefficients of a matrix by accessing its coefficients:\n",
    "* A[i,j] le coefficient $(i,j)$ of the matrix\n",
    "* A[:,j] the $j$th column of the matrix\n",
    "* A[i,:] the $i$th column of the matrix\n",
    "* A[-1,1:3] The second and third coefficients of the last row of the matrix\n",
    "\n",
    "<i>It will be noted that the syntax for extracting data from the matrix is ​​similar to extracting elements for lists.</i>\n",
    "\n",
    "<b>Construction of diagonal matrices</b>\n",
    "\n",
    "Let $V$ be a vector of size $(p,)$, the command <b>np.diag(V,k=s)</b> constructs a matrix of size $p+\\vert s\\vert$ whose elements are all zero except those of the diagonal $s$ which are equal to the coefficients of $V$. By default $k=0$.\n",
    "\n",
    "<b>Extracting the diagonal of a matrix or its upper or lower triangular parts</b>\n",
    "\n",
    "Let $A$ be a matrix of size $(n,m)$, the command <b>np.diag(A)</b> returns a vector of size $(\\min(n,m),)$. The command <b>np.diag(np.diag(A))</b> returns a diagonal square matrix with diagonal identical to that of $A$.\n",
    "The <b>np.triu(A)</b> (resp. <b>np.tril(A)</b>) commands allow you to retrieve matrices of the same size as the matrix $A$ whose upper (resp. lower) parts are identical.\n",
    "\n",
    "</div>"
   ]
  },
  {
   "cell_type": "code",
   "execution_count": null,
   "metadata": {},
   "outputs": [],
   "source": [
    "# Hand built\n",
    "A = np.array([1, 3, 5, 7])\n",
    "B = np.array([[1, 2], [3, 4], [5, 6]])\n",
    "C = B.reshape(6)\n",
    "D = C.reshape((2, 3))\n",
    "print(\n",
    "    f\"A={A}, taille de A={np.shape(A)} ou {len(A)}, # elements={np.size(A)}, dimension={np.ndim(A)}\"\n",
    ")\n",
    "print(\n",
    "    f\"B={B}, taille de B={np.shape(B)}, # elements={np.size(B)}, dimension={np.ndim(B)}\"\n",
    ")\n",
    "print(f\"C={C}\")\n",
    "print(f\"D={D}\")\n",
    "V = np.arange(1, 4)\n",
    "print(f\"V={V}, {np.diag(V,k=2)}\")\n",
    "W = np.diag(B)\n",
    "print(f\"W={W}, diag(B)={np.diag(W)}\")\n",
    "A = np.random.randint(5, size=(3, 3))\n",
    "print(f\"A={A},Tsup(A)={np.triu(A)}, Tinf={np.tril(A)}\")"
   ]
  },
  {
   "cell_type": "code",
   "execution_count": null,
   "metadata": {},
   "outputs": [],
   "source": [
    "# Definition using a loop\n",
    "F1 = np.zeros((3, 4))\n",
    "n, m = np.shape(F1)  # we get the size of the table\n",
    "for i in range(n):\n",
    "    for j in range(m):\n",
    "        F1[i, j] = 1 / (i + j + 2)\n",
    "print(f\"F1={F1}\")"
   ]
  },
  {
   "cell_type": "code",
   "execution_count": null,
   "metadata": {},
   "outputs": [],
   "source": [
    "# Extracting elements\n",
    "B[1, 1], B[:, 0], B[2, :], B[-1, 1:], B[1:-1, :-1]"
   ]
  },
  {
   "cell_type": "markdown",
   "metadata": {},
   "source": [
    "<div class=\"alert alert-block alert-warning\">\n",
    "We will be led to discretize intervals, to create graphs or to discretize differential equations.\n",
    "To do this, you can use one of the following two commands:\n",
    "\n",
    "* to return a vector of size $N$ of coefficients $a+ih$ with $h=\\frac{b-a}{N-1}$ and $i=0,\\cdots, N-1$:\n",
    "\n",
    "np.linspace(a,b,N)\n",
    "* to return a vector whose coefficients are of the form $a+ih$ for $i=0,\\cdots, N-1$ and $a+(N-1)h<b\\leq a+Nh$:\n",
    "\n",
    "np.arange(a,b,h)\n",
    "\n",
    "</div>"
   ]
  },
  {
   "cell_type": "code",
   "execution_count": null,
   "metadata": {},
   "outputs": [],
   "source": [
    "# Tables related to discretization\n",
    "h = np.linspace(0, 1, 11)\n",
    "dt = np.arange(0, 1, 0.1)\n",
    "dt2 = np.arange(\n",
    "    0, 1.05, 0.1\n",
    ")  # to obtain point 1 in the discretization, we enter a value greater than 1 but smaller than 1+h\n",
    "\n",
    "print(f\"h={h}\")\n",
    "print(f\"dt={dt}\")\n",
    "print(f\"dt2={dt2}\")"
   ]
  },
  {
   "cell_type": "markdown",
   "metadata": {},
   "source": [
    "<div class=\"alert alert-block alert-warning\">\n",
    "<b>Table of values ​​in complexes</b>\n",
    "\n",
    "Array elements can be complex (see example below).\n",
    "</div>"
   ]
  },
  {
   "cell_type": "code",
   "execution_count": null,
   "metadata": {},
   "outputs": [],
   "source": [
    "J = 0.5 + np.sqrt(3) / 2 * 1j\n",
    "C = np.array([[1, J, J**2], [J**2, 1, J], [J, J**2, 1]])\n",
    "print(f\"J={J}\")\n",
    "print(f\"C={C}\")"
   ]
  },
  {
   "cell_type": "markdown",
   "metadata": {},
   "source": [
    "#### Operations on tables"
   ]
  },
  {
   "cell_type": "markdown",
   "metadata": {},
   "source": [
    "#### Information about table coefficients\n",
    "\n",
    "<div class=\"alert alert-block alert-warning\">\n",
    "An array can be seen as a sequence of elements with real values. We can then recover\n",
    "\n",
    "\n",
    "* The maximum of the coefficients <b>np.max</b> and <b>np.argmax</b> the indices where this maximum is reached\n",
    "* The minimum of the coefficients <b>np.min</b> and <b>np.argmin</b> the indices where this minimum is reached\n",
    "* The average value of the <b>np.mean</b> coefficients\n",
    "* The standard deviation of the coefficients <b>np.std</b>\n",
    "* The sum of the coefficients <b>np.sum</b>\n",
    "\n",
    "In the case of a matrix of size $(n,m)$, the matrix is ​​considered as a vector of size $n*m$. The location of the maximum (or the maximum) is then an integer $k=j+i*m$ if the element is in position $(i,j)$.\n",
    "\n",
    "In the case of a matrix of size $(n,m)$, we can look at the previous information row by row or column by column. It is then sufficient to specify along which axis we want to perform the operation. For func = max,min,mean,std,sum,\n",
    "\n",
    "np.func(A,axis=0) returns a \"vector\" whose $j$th element corresponds to $func_i(A_{ij})$.\n",
    "np.func(A,axis=1) returns a \"vector\" whose $i$th element corresponds to $func_j(A_{ij})$.\n",
    "\n",
    "\n",
    "Be careful before using these commands for complex value arrays.\n",
    "</div>"
   ]
  },
  {
   "cell_type": "code",
   "execution_count": null,
   "metadata": {},
   "outputs": [],
   "source": [
    "# Case of vectors with real coefficients\n",
    "V = np.random.randn(10)\n",
    "print(f\"{V=}\")\n",
    "print(f\"max(V)={np.max(V)}, location={np.argmax(V)}\")\n",
    "print(f\"min(V)={np.min(V)}, location={np.argmin(V)}\")\n",
    "print(f\"mean(V)={np.mean(V)}, standard deviation={np.std(V)}\")\n",
    "print(f\"sum of coefficients={np.sum(V)}\")"
   ]
  },
  {
   "cell_type": "code",
   "execution_count": null,
   "metadata": {},
   "outputs": [],
   "source": [
    "# Case of matrices with real coefficients\n",
    "M = np.random.randn(2, 5)\n",
    "print(f\"M={M}\")\n",
    "print(f\"max(M)={np.max(M)}, location={np.argmax(M)}\")\n",
    "print(f\"min(M)={np.min(M)}, location={np.argmin(M)}\")\n",
    "print(f\"mean(M)={np.mean(M)}, standard deviation={np.std(M)}\")\n",
    "print(f\"sum of coefficients={np.sum(M)}\")\n",
    "print(f\"max(M,axis=0)={np.max(M,axis=0)}, positions={np.argmax(M,axis=0)}\")\n",
    "print(f\"max(M,axis=1)={np.max(M,axis=1)}, positions={np.argmax(M,axis=1)}\")"
   ]
  },
  {
   "cell_type": "markdown",
   "metadata": {},
   "source": [
    "#### Operations between tables: matrix versus term-by-term\n",
    "\n",
    "<div class=\"alert alert-block alert-warning\">\n",
    "<b>Term-by-term operations</b>\n",
    "\n",
    "If two arrays have the same format $(n,)$ or $(n,m)$ we can quickly perform (without looping) term-by-term operations. Consider two arrays $A$ and $B$:\n",
    "\n",
    "* A+B, A-B, A*B, A/B are arrays of the same size whose coefficients are respectively the sum, the difference, the multiplication, the division of the coefficients of $A$ and $B$.\n",
    "* A**s is an array of the same size as $A$ whose coefficients are the power $s$ of the coefficients of $A$.\n",
    "* for all mathematical <b>func</b> functions in the numpy library, func(A) is an array of the same size as $A$ of coefficients of the func function applied to the coefficients of $A$.\n",
    "* If $c$ is a scalar, the matrix $cA$ is the matrix whose all the coefficients of $A$ have been multiplied by $c$, the matrix $A+ c$ is the matrix obtained from $A$ by adding $c$ to all its coefficients.\n",
    "\n",
    "<b>Matrix Operations</b>\n",
    "\n",
    "To perform matrix operations between arrays, the sizes of the arrays must be compatible and for multiplication you must use the <b>dot</b> command:\n",
    "\n",
    "* Let $A$ be of size $(n,m)$, $B$ of size $(m,l)$, <b>A.dot(B)</b> or <b>np.dot(A,B)</b> is the matrix product $AB$.\n",
    "* Let $A$ be of size $(n,m)$ and $X$ be a vector of size $(m,)$, <b>A.dot(X)</b> or <b>np.dot(A,X)</b> return a \"vector\" of size $(n,)$.\n",
    "* We can also perform a scalar product between two vectors of the same size $(n,)$ using the <b>np.inner</b> command.\n",
    "\n",
    "If $X$ and $Y$ are two arrays of size $(n,m)$, the command <b>np.inner(X,Y)</b> returns an array of size $(n,n)$ defined by $XY^t$.\n",
    "\n",
    "To calculate the $n$th power of a square matrix, we can use the command <b>np.linalg.matrix_power(A,s)</b>.\n",
    "</div>"
   ]
  },
  {
   "cell_type": "code",
   "execution_count": null,
   "metadata": {},
   "outputs": [],
   "source": [
    "A = np.ones((2, 2))\n",
    "B = np.array([[1, 2, 3], [4, 5, 6]])\n",
    "C = np.array([[1, 2], [1, 2]])\n",
    "X = np.array([1, 2, 3])\n",
    "Y = np.array([-1, 1, 0])\n",
    "# term by term operation\n",
    "print(f\"A^2={A**2}\")\n",
    "print(f\"2A={2*A}\")\n",
    "print(f\"A+2={A+2}\")\n",
    "# matrix operation\n",
    "print(f\"AB={A.dot(B)}\")\n",
    "# matrix/\"vector\" operation\n",
    "print(f\"BX={B.dot(X)}\")\n",
    "# scalar product\n",
    "z = np.inner(X, Y)\n",
    "print(f\"For a format (3,) : (X,Y)={z}\")\n",
    "XX = X.reshape((3, 1))\n",
    "YY = Y.reshape((3, 1))\n",
    "zb = np.inner(XX, YY)\n",
    "print(f\"for a format (3,1): (X,Y)={zb}\")\n",
    "# nth power of a matrix\n",
    "print(f\"A^3={np.linalg.matrix_power(A,3)}\")\n",
    "# term-to-term transaction prohibited\n",
    "print(f\"AC={A*C}\")\n",
    "A * B  # impossible because A and B are not the same size"
   ]
  },
  {
   "cell_type": "markdown",
   "metadata": {},
   "source": [
    "#### Array Operations\n",
    "\n",
    "<div class=\"alert alert-block alert-warning\">\n",
    "The <b>numpy</b> library allows for an array $A$ of size $(n,m)$\n",
    "\n",
    "* calculate its trace <b>np.trace(A)</b> or <b>A.trace()</b>.\n",
    "* define the transpose <b>np.transpose(A)</b> or <b>A.T</b>.\n",
    "\n",
    "Be careful when you want to make a copy of a table.\n",
    "The command <b>B=A</b> makes a symbolic link between the two matrices. In other words, when you modify an element $B_{ij}$ of $B$ it will also modify the value of $A_{ij}$. To make an independent copy, you can use the command\n",
    "\n",
    "B = np.copy(A)\n",
    "\n",
    "A trick to zero-initialize an array $B$ of the same size as an array $A$:\n",
    "\n",
    "B = 0.0*A\n",
    "\n",
    "</div>"
   ]
  },
  {
   "cell_type": "code",
   "execution_count": null,
   "metadata": {},
   "outputs": [],
   "source": [
    "A = np.array([[1, 2, 3], [4, 5, 6], [7, 8, 10]])\n",
    "print(f\"trace={A.trace()},\")\n",
    "print(f\"A^t={A.T}\")"
   ]
  },
  {
   "cell_type": "code",
   "execution_count": null,
   "metadata": {},
   "outputs": [],
   "source": [
    "A = np.array([[1, 2, 3], [4, 5, 6], [7, 8, 10]])\n",
    "print(f\"{A=}\")\n",
    "B = A\n",
    "B[0, 0] = 10\n",
    "print(f\"{A=},\\n{B=}\")\n",
    "C = np.copy(A)\n",
    "C[1, 1] = -1\n",
    "print(f\"{A=},\\n{C=}\")"
   ]
  },
  {
   "cell_type": "markdown",
   "metadata": {},
   "source": [
    "## 5.2 numpy.linalg library\n",
    "\n",
    "\n",
    "<div class=\"alert alert-block alert-warning\">\n",
    "The <b>numpy.linalg</b> library allows for a square matrix $A$ of size $(n,n)$ to\n",
    "\n",
    "* calculate its determinant <b>np.linalg.det(A)</b>.\n",
    "* calculate its rank <b> np.linalg.matrix_rank(A)</b>\n",
    "* calculate its inverse <b>np.linalg.inv(A)</b>.\n",
    "* calculate its eigenvalues: <b>np.linalg.eigvals(A)</b> for the list of eigenvalues, <b>np.linalg.eig(A)</b> for the list of eigenvalues ​​and associated eigenvectors.\n",
    "\n",
    "<b>Standards</b>\n",
    "\n",
    "For a vector $V=(v_j)$, we can\n",
    "* calculate the norm of a vector or matrix <b>np.linalg.norm(V,ord)</b> with ord\n",
    "* None for norm 2: $\\sum_jv_j^2$.\n",
    "* <b>$p$</b> for the norm $p$: $\\left(\\sum_j\\vert v_j\\vert^p\\right)^{\\frac1p}$.\n",
    "* <b>inf</b> for the infinite norm: $\\max_j\\vert v_j\\vert$\n",
    "\n",
    "For a matrix $A=(a_{ij})$ , we can\n",
    "* calculate the norm of a vector or matrix <b>np.linalg.norm(A,ord)</b> with ord\n",
    "* <b>None</b> or <b>'fro'</b> for the Frobenius norm $\\sum_{ij}A_{ij}^2$.\n",
    "* <b>inf</b> for the induced infinite norm\n",
    "* <b>1</b> for the induced 1 norm\n",
    "* <b>2</b> for the induced 2 norm\n",
    "\n",
    "<b>Solving linear systems</b>\n",
    "\n",
    "If $A$ is a matrix of size $(n,m)$ and $b$ is a vector of size $(m,)$ (resp. $(m,1)$, the command <b>np.linalg.solve(A,b)</b> returns a vector $X$ of size $(,)$ (resp. $(n,1)$) solution of the linear system $AX=b$.\n",
    "</div>"
   ]
  },
  {
   "cell_type": "markdown",
   "metadata": {},
   "source": [
    "### Your turn to try\n",
    "\n",
    "<div class=\"alert alert-block alert-info\">\n",
    "\n",
    "#### Exercise.\n",
    "\n",
    "* Create a matrix $A$ of size $4\\times 4$ whose coefficients are chosen randomly. Give the symmetric part of this matrix $A_s=\\frac12(A+A^t)$.\n",
    "* Calculate the product of $A$ with $A_s$.\n",
    "* Calculate the determinant of $A_s$ and its inverse if possible.\n",
    "* Create the matrix $B$ of size $3\\times 3$ with random entries, verify that the det(B) is not 0.\n",
    "* Determine the solution of the linear system $BX=\\begin{pmatrix}1,\\\\\\1,\\\\1\\end{pmatrix}$.\n",
    "\n",
    "</div>"
   ]
  },
  {
   "cell_type": "code",
   "execution_count": null,
   "metadata": {},
   "outputs": [],
   "source": [
    "A = np.random.rand(4, 4)\n",
    "print(f\"{A=}\")\n",
    "As = 0.5 * (A + A.T)\n",
    "print(f\"{As=}\")\n",
    "print(f\"product={np.dot(A,As)}\")\n",
    "d = np.linalg.det(As)\n",
    "print(f\"{d}\")\n",
    "if abs(d) > 1e-10:\n",
    "    Asi = np.linalg.inv(As)\n",
    "print(f\"inverse of As={Asi}\")\n",
    "n = 3\n",
    "B = np.random.rand(3, 3)\n",
    "print(f\"{B=}\")\n",
 "determinant = np.linalg.det(B)\n",
    "v = np.ones((n, 1))\n",
"if determinant != 0:\n",
    "      X = np.linalg.solve(B, v)\n",
    "      print(f\"{X=}\")"
   ]
  },
  {
   "cell_type": "markdown",
   "metadata": {},
   "source": [
    "## 5.3 matplotlib.pyplot Library"
   ]
  },
  {
   "cell_type": "markdown",
   "metadata": {},
   "source": [
    "\n",
    "<div class=\"alert alert-block alert-warning\">\n",
    "This is the essential library for making graphics.\n",
    "\n",
    "To import the library, simply start your code with\n",
    "\n",
    "import matplotlib.pyplot as plt\n",
    "\n",
    "\n",
    "Note that using the <b>plt</b> shortcut is standard.\n",
    "</div>"
   ]
  },
  {
   "cell_type": "markdown",
   "metadata": {},
   "source": [
    "### Basic Commands\n",
    "<div class=\"alert alert-block alert-warning\">\n",
    "\n",
    "The first thing one must understand about 2-dimensional graphics in python (as with other scientific computing software) is that\n",
    "we will plot a sequence of points that we will eventually connect together. To plot the graph of a function $f$ on interval $I$, we will therefore\n",
    "\n",
    "* discretize the interval $I$, that is to say, give yourself an increasing or decreasing sequence of points $x_i$ in the interval. For this, we have seen two commands <b>np.linspace</b> or <b>np.arange</b>.\n",
    "* evaluate the function $f$ at the points $x_i$: $y_i=f(x_i)$\n",
    "* use the <b>plt.plot</b> command\n",
    "\n",
    "x = np.linspace(0,1,10)\n",
    "y = x**2\n",
    "plt.plot(x,y)\n",
    "\n",
    "The <b>plt.plot</b> command has at least two arguments which are therefore two vectors $x$ and $y$ of the same size. Without additional arguments, the points $(x_i,y_i)$ will be connected to each other. If the points $x_i$ are too far apart, we will see a broken line. For a good rendering of the function, we must increase the number of points of the discretization.\n",
    "</div>"
   ]
  },
  {
   "cell_type": "code",
   "execution_count": null,
   "metadata": {},
   "outputs": [],
   "source": [
    "import matplotlib.pyplot as plt\n",
    "\n",
    "x = np.linspace(0, 1, 20)\n",
    "y = x**2\n",
    "plt.plot(x, y)"
   ]
  },
  {
   "cell_type": "markdown",
   "metadata": {},
   "source": [
    "### Enhance your graphics\n",
    "<div class=\"alert alert-block alert-warning\">\n",
    "\n",
    "\n",
    "\n",
    "The appearance of the curve can be changed by adding arguments to the <b>plt.plot</b> command. Many examples can be found on the internet, but here are a few.\n",
    "\n",
    "### Change color.\n",
    "\n",
    "The curve can be plotted with any color. Its color is defined using its <b>rgb</b> code (list of 3 elements between 0 and 1 corresponding to the intensity of the r (red) g (green) b (Blue) channels) and the <b>color</b> argument is added to the <b>plt.plot</b> function.\n",
    "\n",
    "plt.plot(x,y,color=[c1,c2,c3])\n",
    "For basic colors, you can simply write\n",
    "\n",
    "plt.plot(x,y,arg)\n",
    "with arg = 'r' for red, 'b' for blue, 'g' for green, 'k' for black, 'm' for magenta, 'c' for cyan, 'y' for yellow.\n",
    "\n",
    "### Change the stroke style\n",
    "\n",
    "To change the style of the line, we use the <b>linestyle</b> argument.\n",
    "\n",
    "plt.plot(x,y,linestyle = style)\n",
    "\n",
    "where <b>style</b> can take the values ​​'solid' (default), 'dotted', 'dashed', 'dashdot' (-.-.). In fact, there are a whole bunch of other possibilities. For these basic styles, we can simply write\n",
    "\n",
    "plt.plot(x,y,arg)\n",
    "with arg = '-' for solid line, ':' for dotted line, '--' for dashed line, '-.' for alternating between dashed and dotted line.\n",
    "\n",
    "### Change line thickness\n",
    "\n",
    "To change the thickness of the line, we use the command <b>linewidth</b> or more simply <b>lw</b>\n",
    "\n",
    "plt.plot(x,y,lw=2)\n",
    "\n",
    "### Add markers at curve points\n",
    "\n",
    "To add this, we use the <b>marker</b> command.\n",
    "\n",
    "plt.plot(x,y,marker=arg)\n",
    "with arg = 'o' for big dots, '+' for crosses, '*' for stars, 's' for squares,...\n",
    "Again for these basic markers we can simply write\n",
    "\n",
    "plt.plot(x,y,arg)\n",
    "The <b>markersize</b> argument controls the size of the marker.\n",
    "\n",
    "plt.plot(x,y,'*',markersize =9)\n",
    "\n",
    "All these arguments can be combined, for classic styles we gather between the quotation marks the information on the color, line style, marker style:\n",
    "\n",
    "plt.plot(x,y,':sk',lw=2,markerstyle=7)\n",
    "</div>"
   ]
  },
  {
   "cell_type": "code",
   "execution_count": null,
   "metadata": {},
   "outputs": [],
   "source": [
    "# change curve color\n",
    "macouleur = [0.1, 0.6, 0.5]\n",
    "plt.plot(x, np.sin(np.pi * x), color=macouleur)"
   ]
  },
  {
   "cell_type": "code",
   "execution_count": null,
   "metadata": {},
   "outputs": [],
   "source": [
    "# change the curve line style\n",
    "monstyle = \"dashdot\"\n",
    "plt.plot(x, np.exp(x), linestyle=monstyle)"
   ]
  },
  {
   "cell_type": "code",
   "execution_count": null,
   "metadata": {},
   "outputs": [],
   "source": [
    "# change line thickness\n",
    "plt.plot(x, 1 / (1 + x), lw=3)"
   ]
  },
  {
   "cell_type": "code",
   "execution_count": null,
   "metadata": {},
   "outputs": [],
   "source": [
    "plt.plot(x, x, \"d\", markersize=5)"
   ]
  },
  {
   "cell_type": "code",
   "execution_count": null,
   "metadata": {},
   "outputs": [],
   "source": [
    "plt.plot(x, 1 - x, \"s:k\", lw=2, markersize=7)"
   ]
  },
  {
   "cell_type": "markdown",
   "metadata": {},
   "source": [
    "<div class=\"alert alert-block alert-warning\">\n",
    "\n",
    "### Add title and legends to axes\n",
    "\n",
    "The <b>plt.title</b>, <b>plt.xlabel</b>, <b>plt.ylabel</b> commands\n",
    "allow you to add a title and legends to the x- and y-axes.\n",
    "\n",
    "plt.title('my title')\n",
    "plt.xlabel('x-axis')\n",
    "plt.ylabel('Y-axis')\n",
    "\n",
    "\n",
    "### Plot multiple graphs on the same figure\n",
    "\n",
    "In Jupyter notebook, you just have to put the plt.plot commands one after the other in the same cell.\n",
    "\n",
    "### Add a legend associated with the curves\n",
    "\n",
    "There are several methods to add a legend to graphs. The first is to add an argument <b>label='malegende'</b> to the plt.plot command and then use <b>plt.legend()</b>. The second is to directly use the <b>plt.legend</b> command by passing it as an argument a list containing the legends of each of the curves.\n",
    "\n",
    "plt.plot(x,y1,label='legend1')\n",
    "plt.plot(x,y2,label='legend2')\n",
    "plt.legend()\n",
    "Or\n",
    "\n",
    "plt.plot(x,y1)\n",
    "plt.plot(x,y2)\n",
    "plt.legend(['legend1','legend2'])\n",
    "\n",
    "The legend is positioned \"at best\" in the figure. To specify its position, one can add the argument <b>loc=arg</b> to the command <b>plt.legend</b> where arg can take values ​​'upper' or 'center' or 'lower' combined with possibly 'left', 'right'.\n",
    "\n",
    "</div>"
   ]
  },
  {
   "cell_type": "code",
   "execution_count": null,
   "metadata": {},
   "outputs": [],
   "source": [
    "plt.plot(x, np.cos(2 * np.pi * x), \"-.r\", label=\"cos\")\n",
    "plt.plot(x, np.sin(2 * np.pi * x), \"-c\", label=\"sin\")\n",
    "plt.title(\"Trigonometric functions\")\n",
    "plt.xlabel(\"x\")\n",
    "plt.ylabel(\"y\")\n",
    "plt.legend()"
   ]
  },
  {
   "cell_type": "markdown",
   "metadata": {},
   "source": [
    "<div class=\"alert alert-block alert-warning\">\n",
    "\n",
    "\n",
    "## Concepts of figures and sub-figures\n",
    "\n",
    "In environments other than Jupyter notebook, we use\n",
    "<b>plt.figure(i)</b> to specify the number (here $i$) of the figure in which we want the graphs to be plotted.\n",
    "\n",
    "In all environments, one may need to subdivide a figure in order to visualize several curves simultaneously but on different axes. The syntax for this is as follows:\n",
    "\n",
    "plt.subfigure(n,m,k)\n",
    "plt.plot(x,y)\n",
    "\n",
    "The figure is broken down into $n*m$ subfigures arranged in $n$ rows and $m$ columns. The graph above is drawn on box $k$.\n",
    "\n",
    "The <b>plt.suptitle('my title')</b> command allows you to display a title above all axes.\n",
    "</div>"
   ]
  },
  {
   "cell_type": "code",
   "execution_count": null,
   "metadata": {},
   "outputs": [],
   "source": [
    "t = np.linspace(0, 2 * np.pi, 400)\n",
    "x = np.cos(t)\n",
    "y = np.sin(t)\n",
    "z = np.sin(t**2)\n",
    "\n",
    "plt.close(\"all\")\n",
    "fig = plt.figure(1)\n",
    "plt.clf()\n",
    "\n",
    "plt.subplot(3, 1, 1)\n",
    "plt.plot(t, z, \"r-.\", lw=3)\n",
    "plt.xlabel(\"t\")\n",
    "plt.ylabel(\"sin(t^2)\")\n",
    "\n",
    "plt.subplot(3, 1, 2)\n",
    "plt.plot(t, x, \"m\")\n",
    "plt.plot(t, y, \"c\")\n",
    "plt.legend([\"cos\", \"sin\"])\n",
    "\n",
    "plt.subplot(3, 1, 3)\n",
    "plt.plot(x, y, \"+k\")\n",
    "plt.axis([-1, 1, -1, 1])\n",
    "\n",
    "plt.suptitle(\"Large title\")"
   ]
  },
  {
   "cell_type": "markdown",
   "metadata": {},
   "source": [
    "<div class=\"alert alert-block alert-warning\">\n",
    "\n",
    "\n",
    "## Change the scale of the axes\n",
    "\n",
    "In many applications, we may need to visualize graphs in logarithmic scale. To do this, we use the commands\n",
    "\n",
    "* <b>plt.semilogx(x,y)</b> to convert the x-axis to log scale\n",
    "* <b>plt.semilogy(x,y)</b> to convert the y-axis to log scale\n",
    "* <b>plt.loglog(x,y)</b> to pass both axes\n",
    "\n",
    "\n",
    "</div>"
   ]
  },
  {
   "cell_type": "code",
   "execution_count": null,
   "metadata": {},
   "outputs": [],
   "source": [
    "# logarithmic scale\n",
    "plt.semilogy(x, np.exp(x))"
   ]
  },
  {
   "cell_type": "code",
   "execution_count": null,
   "metadata": {},
   "outputs": [],
   "source": [
    "plt.loglog(x, x**2)"
   ]
  },
  {
   "cell_type": "markdown",
   "metadata": {},
   "source": [
    "### Point Clouds"
   ]
  },
  {
   "cell_type": "markdown",
   "metadata": {},
   "source": [
    "<div class=\"alert alert-block alert-warning\">\n",
    "The <b>plt.scatter</b> command allows you to visualize a scatter plot.\n",
    "If the coordinates of the points are stored in two vectors $x$ and $y$, it is sufficient to write\n",
    "\n",
    "plt.scatter(x,y,arg)\n",
    "followed by arguments to improve rendering (see the example below which you can find in the matplotlib documentation.)\n",
    "</div>"
   ]
  },
  {
   "cell_type": "code",
   "execution_count": null,
   "metadata": {},
   "outputs": [],
   "source": [
    "N = 50\n",
    "x = np.random.rand(N)\n",
    "y = np.random.rand(N)\n",
    "colors = np.random.rand(N)\n",
    "area = (30 * np.random.rand(N)) ** 2  # 0 to 15 radii point\n",
    "\n",
    "plt.scatter(x, y, s=area, c=colors, alpha=0.5)\n"
   ]
  },
  {
   "cell_type": "markdown",
   "metadata": {},
   "source": [
    "#### Your Turn to Try"
   ]
  }, 
{
   "cell_type": "markdown",
   "metadata": {},
   "source": [
    "<div class=\"alert alert-block alert-info\">\n",
    "<b>Exercise.</b>\n",
    "<b>  Bisection Method.</b>\n",
    "    \n",
    "Approximate the root of the function \\( f(x) = x^3 + 2x - 1 \\) within an accuracy of \\( 10^{-6} \\) on the interval \\([0,1]\\) using the \n",
    "bisection algorithm. You may visualize the function and the approximated root.\n",
    "</div>"
   ]
  },
  {
   "cell_type": "code",
   "execution_count": null,
   "metadata": {},
   "outputs": [],
   "source": [
    "# @hide_input\n",
    "# Bisection Method\n",
    "import matplotlib.pyplot as plt\n",
    "import numpy as np\n",
    "\n",
    "a = 0.0\n",
    "b = 1.0\n",
    "\n",
    "x = np.linspace(a, b, 100)\n",
    "f = lambda x: x**3 + 2*x - 1\n",
    "plt.plot(x, f(x))  # Plot of the function f\n",
    "plt.plot(x, 0*x, ':')  # Plot of the x-axis\n",
    "\n",
    "e = abs(b - a)\n",
    "n = 0\n",
    "while e > 1e-6 and n < 1000: \n",
    "    n = n + 1\n",
    "    c = (a + b) / 2.0\n",
    "    z = c**3 + 2*c - 1\n",
    "    if z > 0:\n",
    "        b = c\n",
    "    else:\n",
    "        a = c\n",
    "    print(n, a, b)\n",
    "    e = abs(b - a)\n",
    "\n",
    "plt.plot([a], [0], '*', lw=4)  # Visualization of the solution\n",
    "print('Approximate Root =', a)\n",
    "print(\"Number of iterations:\", n)"
   ]
  },
  {
   "cell_type": "markdown",
   "metadata": {},
   "source": [
    "<div class=\"alert alert-block alert-info\">\n",
    "\n",
    "<b>Exercise.</b>\n",
    "\n",
    "* Create the discretization $t$ of the interval $[0,1]$ of step 0.1.\n",
    "* Create the function $f:t\\mapsto \\frac1{1-t}$ on the interval $[0,1[$.\n",
    "* Create the vector of images by $f$ of the vector $t$.\n",
    "* Plot the graph of the function on the interval $[0,1[$.\n",
    "</div>"
   ]
  },
  {
   "cell_type": "code",
   "execution_count": null,
   "metadata": {},
   "outputs": [],
   "source": [
    "t = np.arange(0, 1, 0.1)\n",
    "f = lambda x: 1 / (1 - t)\n",
    "y = f(t)\n",
    "plt.plot(t, y)"
   ]
  },
  {
   "cell_type": "markdown",
   "metadata": {},
   "source": [
    "\n",
    "<div class=\"alert alert-block alert-info\">\n",
    "<b>Exercise.</b>\n",
    "\n",
    "* Create the discretization vector of $I=[0,5]$ with step $0.1$.\n",
    "* Let $y_0=0.1$. Create the function $$y: t\\mapsto \\frac{1}{\\frac1b+\\left(\\frac1{y_0}-\\frac1b\\right)e^{-at}}$$\n",
    "We can verify that $y$ is a solution to the Cauchy problem: $y'(t)=ay(t)\\left(1-\\frac{y(t)}b\\right),\\, y(0)=y_0$.\n",
    "* Plot on the same figure the graph of $y$ on the interval $I$ for different pairs of $(a,b)$: $(1,10)$, $(2,10)$, $(1,20)$, $(2,20)$.\n",
    "We will change the style for each of the curves, we will think about adding a legend.\n",
    "</div>"
   ]
  },
  {
   "cell_type": "code",
   "execution_count": null,
   "metadata": {},
   "outputs": [],
   "source": [
    "t = np.arange(0, 5.05, 0.1)\n",
    "y0 = 0.1\n",
    "\n",
    "\n",
    "def f(t, a, b):\n",
    "    return 1 / (1 / b + (1 / y0 - 1 / b) * np.exp(-a * t))\n",
    "\n",
    "\n",
    "a, b = 1, 10\n",
    "plt.plot(t, f(t, a, b))\n",
    "a, b = 2, 10\n",
    "plt.plot(t, f(t, a, b))\n",
    "a, b = 1, 20\n",
    "plt.plot(t, f(t, a, b))\n",
    "a, b = 2, 20\n",
    "plt.plot(t, f(t, a, b))"
   ]
  },
  {
   "cell_type": "markdown",
   "metadata": {},
   "source": [
    "## 5.4 Pandas Library"
   ]
  },
  {
   "cell_type": "markdown",
   "metadata": {},
   "source": [
    "pandas is a powerful Python library used for data manipulation, analysis, and exploration. "
   ]
  },
  {
   "cell_type": "code",
   "execution_count": null,
   "metadata": {},
   "outputs": [],
   "source": [
    "import pandas as pd"
   ]
  },
  {
   "cell_type": "markdown",
   "metadata": {},
   "source": [
    "You can create a dataframe"
   ]
  },
  {
   "cell_type": "code",
   "execution_count": null,
   "metadata": {},
   "outputs": [],
   "source": [
    "data = {\n",
    "    'Name': ['Alice', 'Bob', 'Charlie'],\n",
    "    'Age': [25, 30, 35],\n",
    "    'City': ['Paris', 'London', 'Berlin']\n",
    "}\n",
    "\n",
    "df = pd.DataFrame(data)\n",
    "print(df)"
   ]
  },
  {
   "cell_type": "code",
   "execution_count": null,
   "metadata": {},
   "outputs": [],
   "source": [
    "df['Name']          # Access a column\n",
    "df.loc[0]           # Access a row by index\n",
    "df.iloc[1]          # Access a row by position"
   ]
  },
  {
   "cell_type": "code",
   "execution_count": null,
   "metadata": {},
   "outputs": [],
   "source": [
    "df[df['Age'] > 28] #Filtering rows"
   ]
  },
  {
   "cell_type": "code",
   "execution_count": null,
   "metadata": {},
   "outputs": [],
   "source": [
    "df['Salary'] = [50000, 60000, 70000] # Adding a column"
   ]
  },
  {
   "cell_type": "code",
   "execution_count": null,
   "metadata": {},
   "outputs": [],
   "source": [
    "df.describe()       # Summary stats\n",
    "df['Age'].mean()    # Average age"
   ]
  },
  {
   "cell_type": "markdown",
   "metadata": {},
   "source": [
    "<div class=\"alert alert-block alert-info\">\n",
    "\n",
    "<b>Exercise.</b>\n",
    "\n",
    "- Create a DataFrame with students (Alice, Bob, Charlie, Diana) and scores (85,58,73,45)\n",
    "- Add a column for \"Passed\" if the score is >= 60\n",
    "- Show only students who passed\n",
    "</div>"
   ]
  },
  {
   "cell_type": "code",
   "execution_count": null,
   "metadata": {},
   "outputs": [],
   "source": [
    "data = {\n",
    "    'Student': ['Alice', 'Bob', 'Charlie', 'Diana'],\n",
    "    'Score': [85, 58, 73, 45]\n",
    "}\n",
    "\n",
    "df = pd.DataFrame(data)\n",
    "df['Passed'] = df['Score'] >= 60\n",
    "print(df[df['Passed']])"
   ]
  },
  {
   "cell_type": "markdown",
   "metadata": {},
   "source": [
    "<div class=\"alert alert-block alert-info\">\n",
    "\n",
    "<b>Exercise.</b>\n",
    "\n",
    "- Create a DataFrame with produts ( Laptop, Phone, Tablet, Monitor) and prices ( 1200, 800, 300,400)\n",
    "- Find the average price\n",
    "- Find the most expensive product\n",
    "</div>"
   ]
  },
  {
   "cell_type": "code",
   "execution_count": null,
   "metadata": {},
   "outputs": [],
   "source": [
    "import pandas as pd\n",
    "\n",
    "products = {\n",
    "    'Product': ['Laptop', 'Phone', 'Tablet', 'Monitor'],\n",
    "    'Price': [1200, 800, 300, 400]\n",
    "}\n",
    "\n",
    "df = pd.DataFrame(products)\n",
    "\n",
    "# Average price\n",
    "print(\"Average Price:\", df['Price'].mean())\n",
    "\n",
    "# Most expensive product\n",
    "max_price = df['Price'].max()\n",
    "expensive = df[df['Price'] == max_price]\n",
    "print(\"Most Expensive Product:\\n\", expensive)"
   ]
  }
 ],
 "metadata": {
  "kernelspec": {
   "display_name": "Python 3 (ipykernel)",
   "language": "python",
   "name": "python3"
  },
  "language_info": {
   "codemirror_mode": {
    "name": "ipython",
    "version": 3
   },
   "file_extension": ".py",
   "mimetype": "text/x-python",
   "name": "python",
   "nbconvert_exporter": "python",
   "pygments_lexer": "ipython3",
   "version": "3.10.13"
  }
 },
 "nbformat": 4,
 "nbformat_minor": 4
}
